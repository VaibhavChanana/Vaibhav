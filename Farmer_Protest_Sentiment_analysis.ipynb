{
  "nbformat": 4,
  "nbformat_minor": 0,
  "metadata": {
    "colab": {
      "name": "Farmer_Protest_Sentiment_analysis.ipynb",
      "provenance": [],
      "collapsed_sections": [],
      "toc_visible": true,
      "include_colab_link": true
    },
    "kernelspec": {
      "name": "python3",
      "display_name": "Python 3"
    }
  },
  "cells": [
    {
      "cell_type": "markdown",
      "metadata": {
        "id": "view-in-github",
        "colab_type": "text"
      },
      "source": [
        "<a href=\"https://colab.research.google.com/github/VaibhavChanana/Vaibhav/blob/main/Farmer_Protest_Sentiment_analysis.ipynb\" target=\"_parent\"><img src=\"https://colab.research.google.com/assets/colab-badge.svg\" alt=\"Open In Colab\"/></a>"
      ]
    },
    {
      "cell_type": "markdown",
      "metadata": {
        "id": "VwK5-9FIB-lu"
      },
      "source": [
        "\n",
        "\n",
        "# Farmers' Protests Tweets Sentiment Analysis"
      ]
    },
    {
      "cell_type": "markdown",
      "metadata": {
        "id": "X1kiO9kACE6s"
      },
      "source": [
        "## Importing the libraries"
      ]
    },
    {
      "cell_type": "code",
      "metadata": {
        "id": "7QG7sxmoCIvN"
      },
      "source": [
        "import numpy as np\n",
        "import matplotlib.pyplot as plt\n",
        "import pandas as pd"
      ],
      "execution_count": null,
      "outputs": []
    },
    {
      "cell_type": "markdown",
      "metadata": {
        "id": "wTfaCIzdCLPA"
      },
      "source": [
        "## Importing the dataset"
      ]
    },
    {
      "cell_type": "code",
      "metadata": {
        "id": "UCK6vQ5QCQJe"
      },
      "source": [
        "dataset = pd.read_csv('farmerprotestdataset1.csv')"
      ],
      "execution_count": null,
      "outputs": []
    },
    {
      "cell_type": "markdown",
      "metadata": {
        "id": "Qekztq71CixT"
      },
      "source": [
        "## Cleaning the texts"
      ]
    },
    {
      "cell_type": "code",
      "metadata": {
        "id": "8u_yXh9dCmEE",
        "colab": {
          "base_uri": "https://localhost:8080/"
        },
        "outputId": "da9bd940-3a7c-4c62-e492-141fb345661b"
      },
      "source": [
        "import re\n",
        "import nltk\n",
        "nltk.download('stopwords')\n",
        "from nltk.corpus import stopwords\n",
        "from nltk.stem.porter import PorterStemmer\n",
        "corpus = []\n",
        "for i in range(0, 500):\n",
        "  review = re.sub('[^a-zA-Z]', ' ', dataset['Tweets'][i])\n",
        "  review = review.lower()\n",
        "  review = review.split()\n",
        "  ps = PorterStemmer()\n",
        "  all_stopwords = stopwords.words('english')\n",
        "  all_stopwords.remove('not')\n",
        "  review = [ps.stem(word) for word in review if not word in set(all_stopwords)]\n",
        "  review = ' '.join(review)\n",
        "  corpus.append(review)"
      ],
      "execution_count": null,
      "outputs": [
        {
          "output_type": "stream",
          "text": [
            "[nltk_data] Downloading package stopwords to /root/nltk_data...\n",
            "[nltk_data]   Package stopwords is already up-to-date!\n"
          ],
          "name": "stdout"
        }
      ]
    },
    {
      "cell_type": "code",
      "metadata": {
        "id": "KpGWdrzGoAsL",
        "colab": {
          "base_uri": "https://localhost:8080/"
        },
        "outputId": "dc7f9f76-4680-467b-b6aa-8241cd722dbb"
      },
      "source": [
        "print(corpus)"
      ],
      "execution_count": null,
      "outputs": [
        {
          "output_type": "stream",
          "text": [
            "['b rt khaliqu modigovt ambaniadani boycott adani ambani ramdev support farmer vote bjp repeal black law xe x xa', 'b rt chora keep go like soon day everi sector gonna strike save india xe x xa', 'b rt sidhu realiti govern xf x f xa x xf x f xa x xf x f x x xf x f x x modigovt ambaniadani farmersprotest http co f th lgmpc', 'b idea simpl xe x x talk khalistan let brew quietli polic say place religi awar http co nji gx gk', 'b rt modi fascist danger trump rss world largest voluntari paramilitari found xe x xa', 'b rt govern vest interest corpor sector hell bent blind dismantl public sector xe x xa', 'b rt govern vest interest corpor sector hell bent blind dismantl public sector xe x xa', 'b rt chora keep go like soon day everi sector gonna strike save india xe x xa', 'b feb rd statement issu everyth alright uk home offic feb th sir phil http co f yabtteki', 'b rt dhanda mani protest go countri busi ongo elect bankstrik striketosaveindia xe x xa', 'b rt dhanda mani protest go countri busi ongo elect bankstrik striketosaveindia xe x xa', 'b rt dhanda mani protest go countri busi ongo elect bankstrik striketosaveindia xe x xa', 'b rt need concentr peac tractor parad well xe x x manag divert attent toward violenc someh xe x xa', 'b rt modigovt ambaniadani modi billion peopl trust vote sold trust asset corp xe x xa', 'b rt sidhu realiti govern xf x f xa x xf x f xa x xf x f x x xf x f x x modigovt ambaniadani farmersprotest http co f th lgmpc', 'b rt maniish rahul gandhi everi statment modi ji xf x f x x xf x f x x xf x f x x rahulgandhi farmersprotest http co jclo vem h', 'b rt dhan guru nanak dev ji farmer give us strength stay fight farmer bigger modi eg xe x xa', 'b rt farmersprotest time support bankstrik', 'b ghazipur border reopen delhi traffic movement farmersprotest ghazipurbord delhitoup delhipolic http co lbwzyqdaml', 'b rt sidhu realiti govern xf x f xa x xf x f xa x xf x f x x xf x f x x modigovt ambaniadani farmersprotest http co f th lgmpc', 'b rt chora keep go like soon day everi sector gonna strike save india xe x xa', 'b rt pro modi ralli plan th triniti common brampton invit diaspora come counter ralli xe x xa', 'b rt randhawa modigovt ambaniadani still fight right protest not stop three bill xe x xa', 'b rt dhanda mani protest go countri busi ongo elect bankstrik striketosaveindia xe x xa', 'b rt chora keep go like soon day everi sector gonna strike save india xe x xa', 'b rt chora keep go like soon day everi sector gonna strike save india xe x xa', 'b ex ia anita agnihotri say profess told xe x x see someth xe x x carri back f http co eqvtjg tyl', 'b keep go like soon day everi sector gonna strike save http co z xa rmup', 'b rt dhan guru nanak dev ji farmer give us strength stay fight farmer bigger modi eg xe x xa', 'b rt khaliqu modigovt ambaniadani boycott adani ambani ramdev support farmer vote bjp repeal black law xe x xa', 'b rt http co r cwpijh world ad billionair everi two day india ad one everi week modigovt amban xe x xa', 'b rt modigovt ambaniadani greed not financi issu heart issu farmersprotest http co zppsfa tm', 'b rt even loos young grandson januari kisaan parad bapu hardeep singh dibdiba not sit back instead xe x xa', 'b rt day span across steeli cold winter scorch heat limit suppli food water electr toilet whil xe x xa', 'b r farmer farmersprotest modigovt ambaniadani', 'b rt jaikisan inflict vote ki chot bjp kisan morcha urg poll bound bengal kisanandolan farmersprotest http co nzzvv xe x xa', 'b rt trend tweet freefrstanswami disharavi freesanjeevbhat farmersprotest petrolpricehik sachinwaz xe x xa', 'b rt randhawa modigovt ambaniadani still fight right protest not stop three bill xe x xa', 'b rt dhanda mani protest go countri busi ongo elect bankstrik striketosaveindia xe x xa', 'b rt inflict vote ki chot bjp kisan morcha urg poll bound bengal kisanandolan farmersprotest http co roa xe x xa', 'b rt farmersprotest time support bankstrik', 'b rt trend tweet freefrstanswami disharavi freesanjeevbhat farmersprotest petrolpricehik sachinwaz xe x xa', 'b rt trend tweet freefrstanswami disharavi freesanjeevbhat farmersprotest petrolpricehik sachinwaz xe x xa', 'b rt farmersprotest time support bankstrik', 'b rt dhanda mani protest go countri busi ongo elect bankstrik striketosaveindia xe x xa', 'b trend tweet freefrstanswami disharavi freesanjeevbhat farmersprotest petrolpricehik http co xrhcswjetg', 'b farmersprotest time support bankstrik', 'b rt sidhu realiti govern xf x f xa x xf x f xa x xf x f x x xf x f x x modigovt ambaniadani farmersprotest http co f th lgmpc', 'b rt dhanda mani protest go countri busi ongo elect bankstrik striketosaveindia xe x xa', 'b rt khaliqu modigovt ambaniadani boycott adani ambani ramdev support farmer vote bjp repeal black law xe x xa', 'b sahay rathe lol xf x f xa xa xf x f xa xa abus farmersprotest', 'b watch farmer union build pucca hous road singhu border farmersprotest farmlaw singhubord http co qwwbvfik', 'b rt sidhu realiti govern xf x f xa x xf x f xa x xf x f x x xf x f x x modigovt ambaniadani farmersprotest http co f th lgmpc', 'b rt sangwan farmer night duti protest site delhi singhu border xe xa xb xe xa xa xe xa x xe xa x xe xa xbe xe xa x xe xa xbf xe xa xb xe xa xbe xe xa xa xe xa x c xe xa x xe xa xa xe xa x xe xa x xe xa xbe xe xa x xe xa xbf xe xa xb xe xa xbe xe xa xa farmersprotest singhubord http xe x xa', 'b rt dhanda mani protest go countri busi ongo elect bankstrik striketosaveindia xe x xa', 'b rt dhanda mani protest go countri busi ongo elect bankstrik striketosaveindia xe x xa', 'b rt sangwan farmer night duti protest site delhi singhu border xe xa xb xe xa xa xe xa x xe xa x xe xa xbe xe xa x xe xa xbf xe xa xb xe xa xbe xe xa xa xe xa x c xe xa x xe xa xa xe xa x xe xa x xe xa xbe xe xa x xe xa xbf xe xa xb xe xa xbe xe xa xa farmersprotest singhubord http xe x xa', 'b farmersprotest rock true authent fearless http co evwvcjibdf', 'b rt dhanda mani protest go countri busi ongo elect bankstrik striketosaveindia xe x xa', 'b side farmer protest centr xe x x new agriculturelaw meghalaya governor satya pal malik http co rzgulviic', 'b motabhai back swag westbengalelect bongerbhumiteshah farmersprotest http co pu ontnck', 'b rt pride farmer readi go modi field west bengal elect west bengal xe x xa', 'b pride farmer readi go modi field west bengal elect west bengal http co v g grvp', 'b rt sidhu realiti govern xf x f xa x xf x f xa x xf x f x x xf x f x x modigovt ambaniadani farmersprotest http co f th lgmpc', 'b lilli good thing thank istandwithfarm farmersprotest', 'b rt dhanda wisshh cool like modi jii neglect problem focu much bigger goal life xf x f x x xe x xa', 'b rt thank lilli proud waheguru modigovt ambaniadani farmersprotest', 'b rt msp vote start today lpg ga costlier rs today sir increas grade dram xe x xa', 'b modu operandi present govt creat law profit friend farmersprotest peopl protest http co gj unak r', 'b rt subedar amarjeet singh winner medal fight farmer farmersprotest nofarmernofood farmersprot xe x xa', 'b rt dhanda mani protest go countri busi ongo elect bankstrik striketosaveindia xe x xa', 'b governor cm one sure reason stabl employ modi shah bjp small differ http co sfiavj', 'b rt dhanda wisshh cool like modi jii neglect problem focu much bigger goal life xf x f x x xe x xa', 'b tuber superwoman support farmersprotest http co iiac ec h', 'b modigovt ambaniadani modi billion peopl trust vote sold trust asset http co tjpoolpkrl', 'b rt heavi rain wind tikri border destryo tent need urgent food amp essenti suppli tikri border xe x xa', 'b rt none law favour farmer countri farmer soldier not satisfi countri cann xe x xa', 'b rt sidhu realiti govern xf x f xa x xf x f xa x xf x f x x xf x f x x modigovt ambaniadani farmersprotest http co f th lgmpc', 'b tnie tnie tnie xe x x ct http co pafyujunxt', 'b wisshh cool like modi jii neglect problem focu much bigger goal l http co nchrdfcvxq', 'b rt khaliqu modigovt ambaniadani boycott adani ambani ramdev support farmer vote bjp repeal black law xe x xa', 'b rt dhanda mani protest go countri busi ongo elect bankstrik striketosaveindia xe x xa', 'b rt olmag interview haryana cm khattar tell outlook peopl mislead thousand farmer xe x xa', 'b farmersprotest westbengalelect rakeshtikait farmer protest may put san die mode xf x f xa x e xf x f xa x e xf x f xa x e ye xf x f xa xa xf x f xa xa xf x f xa xa', 'b olmag interview haryana cm khattar tell outlook peopl mislead thousand farmer http co pfhnhtongl', 'b modigovt ambaniadani greed not financi issu heart issu farmersprotest http co zppsfa tm', 'b rt day span across steeli cold winter scorch heat limit suppli food water electr toilet whil xe x xa', 'b rt khaliqu modigovt ambaniadani boycott adani ambani ramdev support farmer vote bjp repeal black law xe x xa', 'b rt http co r cwpijh world ad billionair everi two day india ad one everi week modigovt amban xe x xa', 'b rt khaliqu modigovt ambaniadani boycott adani ambani ramdev support farmer vote bjp repeal black law xe x xa', 'b rt inflict vote ki chot bjp kisan morcha urg poll bound bengal kisanandolan farmersprotest http co roa xe x xa', 'b rt dhanda mani protest go countri busi ongo elect bankstrik striketosaveindia xe x xa', 'b rt dhanda mani protest go countri busi ongo elect bankstrik striketosaveindia xe x xa', 'b rt none law favour farmer countri farmer soldier not satisfi countri cann xe x xa', 'b rt dhanda mani protest go countri busi ongo elect bankstrik striketosaveindia xe x xa', 'b rt whataa idea support farmersprotest http co g zr vzboy', 'b rt khaliqu modigovt ambaniadani boycott adani ambani ramdev support farmer vote bjp repeal black law xe x xa', 'b ani chief along takk ka journalist en rout kolkata xe x x ccharter flight http co di yp k', 'b day span across steeli cold winter scorch heat limit suppli food water electr toil http co sh qum f', 'b rt peopl not support farmersprotest yesterday support today bankstrik start farmer bank xe x xa', 'b rt spoke today parliament peopl across ilford world look horror action indian gov xe x xa', 'b rt none law favour farmer countri farmer soldier not satisfi countri cann xe x xa', 'b rt govern vest interest corpor sector hell bent blind dismantl public sector xe x xa', 'b rt india wow support farmersprotest seen grammi power farmersofworld longlivefarm', 'b rt khaliqu modigovt ambaniadani boycott adani ambani ramdev support farmer vote bjp repeal black law xe x xa', 'b http co r cwpijh world ad billionair everi two day india ad one everi week http co ia jwkbd', 'b rt randhawa modigovt ambaniadani still fight right protest not stop three bill xe x xa', 'b rt modi govern work farmer time time receiv vote xe x xa', 'b rt peopl not support farmersprotest yesterday support today bankstrik start farmer bank xe x xa', 'b rt dhanda mani protest go countri busi ongo elect bankstrik striketosaveindia xe x xa', 'b rt dhanda mani protest go countri busi ongo elect bankstrik striketosaveindia xe x xa', 'b fight farm law battl self respect naresh tikait read bku nareshtikait http co r lx umwwb', 'b rt thank lilli proud waheguru modigovt ambaniadani farmersprotest', 'b rt peopl not support farmersprotest yesterday support today bankstrik start farmer bank xe x xa', 'b rt dhanda mani protest go countri busi ongo elect bankstrik striketosaveindia xe x xa', 'b rt farmersprotest make appear grammi courtesi xe x x face mask thousand farmer india stil xe x xa', 'b rt striketosaveindia save democraci india farmersprotest http co afbfybmtc', 'b rt bankstrik along farmersprotest indic worri angri everi sector xe x xa', 'b rt dhanda mani protest go countri busi ongo elect bankstrik striketosaveindia xe x xa', 'b rt peac without sorrow farmersprotest kisanektazindaabaad punishantifarmerbjp farmersprotest modiharassingprofarm xe x xa', 'b rt modi govern work farmer time time receiv vote xe x xa', 'b rt dhanda mani protest go countri busi ongo elect bankstrik striketosaveindia xe x xa', 'b shaheenbagh protest creat issu use bjp pola http co un epdbssa', 'b mani protest go countri busi ongo elect bankstrik http co yvmh mgij', 'b rt privat danger especi idiot rule nation stopprivat stopprivatis bankba xe x xa', 'b hr power peopl xf x f x x c xf x f x f xbd xf x f x x c xe x c x xf x f x f xbd modi must listen demand farmer ambani amp adani http co gfnqrmoot', 'b bankstrik along farmersprotest indic worri angri everi sector http co g hvuwelud', 'b peopl not support farmersprotest yesterday support today bankstrik start farmer http co dtt njo z', 'b rt farmersprotest make appear grammi courtesi xe x x face mask thousand farmer india stil xe x xa', 'b shame sinc keep lie confid poor indian peopl farmersprotest', 'b rt jeremi corbyn spoke law india bring social media censorship farmersprotest', 'b modi govern work farmer time time receiv vote http co dggsdskz', 'b rt farmer still protest jaggi still illeg detain ranjit singh peac protest still f xe x xa', 'b farmersprotest make appear grammi courtesi xe x x face mask thousand farmer india http co axktmdyclb', 'b rt meghalaya guv sp malik back protest farmer urg pm modi amit shah not offend xe x xa', 'b modigovt ambaniadani boycott adani ambani ramdev support farmer vote bjp repeal black http co bria gtmfr', 'b call farmer protest ralli fortun innova scorpio farmer area http co ojmgmix', 'b modigovt ambaniadani boycott adani ambani ramdev support farmer vote bjp repeal black http co l lrfretn', 'b rt thank lilli proud waheguru modigovt ambaniadani farmersprotest', 'b modigovt ambaniadani boycott adani ambani ramdev support farmer vote bjp repeal black http co kil yd', 'b world see corrupt nation thank modi adani ambani punishantifarmerbjp novotetobjp http co f vo', 'b rt read report farmer protest cover intern respons legal issu wider implic hu xe x xa', 'b rt khaliqu modigovt ambaniadani boycott adani ambani ramdev support farmer vote bjp repeal black law xe x xa', 'b modigovt ambaniadani boycott adani ambani ramdev support farmer vote bjp repeal black http co g fqcq ea', 'b modigovt ambaniadani boycott adani ambani ramdev support farmer vote bjp repeal black law farmersprotest', 'b wait vimal kesri actor school farmersprotest xe x c x xf x f x f xbd', 'b farmersprotest farmer day farmer bill', 'b whataa idea support farmersprotest http co g zr vzboy', 'b rt thank lilli proud waheguru modigovt ambaniadani farmersprotest', 'b rt india xe x x challeng facebook negoti xe x x ploy indic indian democraci head http xe x xa', 'b rt none law favour farmer countri farmer soldier not satisfi countri cann xe x xa', 'b rt rt wait govt draft tweet come remind us xe x xa', 'b none law favour farmer countri farmer soldier not satisfi countr http co ddntlallwk', 'b eventu win xe x c x c xf x f x f xbd farmersprotest http co nmmtyy kta', 'b rt andhbhakt ko strong repli watch video farmersprotest http co nfmmaapu', 'b india xe x x challeng facebook negoti xe x x ploy indic indian democraci head http co sy kz', 'b protest given khap infam honour kill diktat regress stand issu like http co h kw llk r', 'b rt kisan andolan tweet farmersprotest rakeshtikait asolporiborton bengalelect http co bponff xe x xa', 'b rt india end famin independ unless listen farmersprotest risk bring famin back http xe x xa', 'b rg http co jykgdezfao', 'b indian govern overlook invalu social cultur environment contribut small scale fa http co hmasvfspx', 'b rt thank lilli proud waheguru modigovt ambaniadani farmersprotest', 'b rt farmersprotest movement xe x x rare phenomenon xe x x deepli connect peopl across broad xe x xa', 'b rt thank lilli proud waheguru modigovt ambaniadani farmersprotest http co u gnbom', 'b rt thank lilli proud waheguru modigovt ambaniadani farmersprotest', 'b rt thank lilli proud waheguru modigovt ambaniadani farmersprotest', 'b rt thank lilli proud waheguru modigovt ambaniadani farmersprotest', 'b thank u much support farmersprotest india n give world stage stay safe n ignor http co efqyxz pz', 'b ufbu join farmersprotest show insensit govern indian one http co iyupuq yvo', 'b rt thank lilli proud waheguru modigovt ambaniadani farmersprotest', 'b rt spoke today parliament peopl across ilford world look horror action indian gov xe x xa', 'b wow support farmersprotest seen grammi power farmersofworld longlivefarm http co zzf lrzfwf', 'b ye thank us xf x f x x f farmersprotest http co u mgw mj', 'b rt thank lilli proud waheguru modigovt ambaniadani farmersprotest', 'b thank report million peopl protest indian govern world http co ibyolhbysa', 'b rt sidhu realiti govern xf x f xa x xf x f xa x xf x f x x xf x f x x modigovt ambaniadani farmersprotest http co f th lgmpc', 'b rt govern vest interest corpor sector hell bent blind dismantl public sector xe x xa', 'b rt hashtag today modigovt ambaniadani boycottbjp farmersprotest tweet rt share', 'b rt dhan guru nanak dev ji farmer give us strength stay fight farmer bigger modi eg xe x xa', 'b local peopl stay nearbi villag not delhi local peopl came th jan vacat fa http co af nstqeqv', 'b rt sharma not farmer lazi instead exist domin class lazi economist economist ne xe x xa', 'b time chang farmersprotest http co kqruidkyxi', 'b thank lilli proud waheguru modigovt ambaniadani farmersprotest http co u gnbom', 'b rt like boss xf x f x x e xf x f x x c go girl xf x f x x f farmersprotest truthmatt humanityfirst human farmersprotest farmer ki xe x xa', 'b rt meghalaya governor satyapalmalik extend support ongo farmer agit sunday urg prime minist xe x xa', 'b rt meghalaya governor satyapalmalik extend support ongo farmer agit sunday urg prime minist xe x xa', 'b like boss xf x f x x e xf x f x x c go girl xf x f x x f farmersprotest truthmatt humanityfirst human farmersprotest http co rgrd uschh', 'b rt india ongo farmersprotest delhi border recent complet day not spread rural xe x xa', 'b sfj million pledg fund xe x x ccommiss inquiri urg punjab farmer give info http co e avrmtljp', 'b govern support farmer protest mustread farmersprotest supportfarm standwithfarm http co w lbqotark', 'b rt sidhu realiti govern xf x f xa x xf x f xa x xf x f x x xf x f x x modigovt ambaniadani farmersprotest http co f th lgmpc', 'b rt ya give indian farmer visibl voic celebr use maximum impact farmersprot xe x xa', 'b power peopl stronger peopl power modigovt ambaniadani farmersprotest', 'b rt meghalaya governor satyapalmalik extend support ongo farmer agit sunday urg prime minist xe x xa', 'b rt farmersprotest say modi bigger threat pakistan much democraci want fact india sufferi xe x xa', 'b like boss xf x f x x e xf x f x x c xf x f x xaa http co juuzlwskxp farmersprotest truthmatt peacefulprotestcontinu farmersprotest http co mmkgwcmhmz', 'b rt beaten not broken meet shiv kumar nodeep kaur young labour activist inspir bhagat singh http co qexr k h xe x xa', 'b rt two case file farmer build concret wall dig borewel highway near delhi http co cw ltfatm xe x xa', 'b rt sidhu realiti govern xf x f xa x xf x f xa x xf x f x x xf x f x x modigovt ambaniadani farmersprotest http co f th lgmpc', 'b rt wait govt draft tweet come remind us http co mhdgjottxg', 'b rt sidhu realiti govern xf x f xa x xf x f xa x xf x f x x xf x f x x modigovt ambaniadani farmersprotest http co f th lgmpc', 'b rt xe xa x xe xa xbf xe xa xb xe xa xbe xe xa xa xe xa x xe xa x c xe xa xbf xe xa xb xe xa xa xe xa x xe xa xae xe xa x b xe xa xa xe xa x xe xa xb xe xa xbe xe xa xb xe xa x peopl power hindu muslim sikh christian one govern xe x xa', 'b xe x x evil hyena farmersprotest modigovt ambaniadani http co gzm k hfja', 'b rt striketosaveindia wake india privat bank one easi way avoid repay huge loan pr xe x xa', 'b decid sultanpur lodhi today th march observ punjab bandh protest three f http co f iv wmtv', 'b rt randhawa modigovt ambaniadani still fight right protest not stop three bill xe x xa', 'b proud lilli stand w farmer istandwithfarm farmersprotest nofarmersnofood http co eonxczvhyv', 'b rt sidhu realiti govern xf x f xa x xf x f xa x xf x f x x xf x f x x modigovt ambaniadani farmersprotest http co f th lgmpc', 'b rt meghalaya governor satyapalmalik extend support ongo farmer agit sunday urg prime minist xe x xa', 'b meghalaya governor satyapalmalik extend support ongo farmer agit sunday urg prime http co pw ns u h', 'b rt govern vest interest corpor sector hell bent blind dismantl public sector xe x xa', 'b rt govern vest interest corpor sector hell bent blind dismantl public sector xe x xa', 'b rt govern vest interest corpor sector hell bent blind dismantl public sector xe x xa', 'b rt farmer artist paint earth xf x f x c x xf x f x c xbe farmersprotest http co xypw whbb', 'b rt striketosaveindia wake india privat bank one easi way avoid repay huge loan pr xe x xa', 'b al polot leader parti incl think nation highway block daili http co lfmyretohh', 'b beaten not broken meet shiv kumar nodeep kaur young labour activist inspir bhagat singh http co ujr r l', 'b welcom oxygen farmersprotest http co ka iexhfc', 'b rt farmer stir may continu till decemb say rakesh tikait rakeshtikait farmersprotest farmbil farmlaw http xe x xa', 'b rt farmersprotest movement xe x x rare phenomenon xe x x deepli connect peopl across broad xe x xa', 'b two case file farmer build concret wall dig borewel highway near delhi http co ypevuyqp x', 'b rt ya give indian farmer visibl voic celebr use maximum impact farmersprot xe x xa', 'b rt sidhu realiti govern xf x f xa x xf x f xa x xf x f x x xf x f x x modigovt ambaniadani farmersprotest http co f th lgmpc', 'b rt gill thank expos man oh hell not accept kp gill massmurder xe x xa', 'b rt modigovt ambaniadani still fight right protest not stop three bill xe x xa', 'b rt farmer still protest jaggi still illeg detain ranjit singh peac protest still f xe x xa', 'b rt sidhu realiti govern xf x f xa x xf x f xa x xf x f x x xf x f x x modigovt ambaniadani farmersprotest http co f th lgmpc', 'b modigovt ambaniadani still fight right protest not stop three bill http co jpkkyltikj', 'b striketosaveindia wake india privat bank one easi way avoid repay huge loan http co qkzqlsmey', 'b rt sidhu realiti govern xf x f xa x xf x f xa x xf x f x x xf x f x x modigovt ambaniadani farmersprotest http co f th lgmpc', 'b rt govern vest interest corpor sector hell bent blind dismantl public sector xe x xa', 'b rt pain youth india pleas support youth india ew student pleas share much modi jawab xe x xa', 'b rt sidhu realiti govern xf x f xa x xf x f xa x xf x f x x xf x f x x modigovt ambaniadani farmersprotest http co f th lgmpc', 'b understand critic comedi show farmer http co v fndlveaj', 'b rt sidhu realiti govern xf x f xa x xf x f xa x xf x f x x xf x f x x modigovt ambaniadani farmersprotest http co f th lgmpc', 'b rt kisan andolan tweet farmersprotest rakeshtikait asolporiborton bengalelect http co bponff xe x xa', 'b rt randhawa modigovt ambaniadani still fight right protest not stop three bill xe x xa', 'b rt randhawa modigovt ambaniadani still fight right protest not stop three bill xe x xa', 'b kine din hor sarkar farmersprotest kisanektazindaabaad', 'b striketosaveindi save public deposit save prioriti save sector save social scheme save youth futur save employmen http co ewbxhsrfcd', 'b rt randhawa modigovt ambaniadani still fight right protest not stop three bill xe x xa', 'b rt sidhu realiti govern xf x f xa x xf x f xa x xf x f x x xf x f x x modigovt ambaniadani farmersprotest http co f th lgmpc', 'b rt randhawa modigovt ambaniadani still fight right protest not stop three bill xe x xa', 'b rt randhawa modigovt ambaniadani still fight right protest not stop three bill xe x xa', 'b rt randhawa modigovt ambaniadani still fight right protest not stop three bill xe x xa', 'b farmersprotest right movement http co w qlnuiil', 'b modigovt ambaniadani still fight right protest not stop three bill http co nncuivrdz', 'b rt gkg respect level roof xf x f x x f xf x f x f xbd xf x f x c xbe xe x xa farmersprotest', 'b rt farmersprotest movement xe x x rare phenomenon xe x x deepli connect peopl across broad xe x xa', 'b rt india end famin independ unless listen farmersprotest risk bring famin back http xe x xa', 'b modigovt ambaniadani see report say govt help publish also farmersprotest http co f gireh', 'b rt cheater liar farmersprotest xe xa x xe xa xbf xe xa xb xe xa xbe xe xa xa xe xa x xe xa x c xe xa xbf xe xa xb xe xa xa xe xa x xe xa xae xe xa x b xe xa xa xe xa x xe xa xb xe xa xbe xe xa xb http co ffwj ce n', 'b not corpor blood suck corpor modigovt ambaniadani farmersprotest http co svjahdqi v', 'b rt sidhu realiti govern xf x f xa x xf x f xa x xf x f x x xf x f x x modigovt ambaniadani farmersprotest http co f th lgmpc', 'b rt govern vest interest corpor sector hell bent blind dismantl public sector xe x xa', 'b rt farmer not back win arrog modi govern lose bjp xe xa x xe xa xbf xe xa xb xe xa xbe xe xa xa xe xa xb xe xa xbf xe xa xb xe xa x b xe xa xa farmersprotest http xe x xa', 'b rt dhan guru nanak dev ji farmer give us strength stay fight farmer bigger modi eg xe x xa', 'b go farmersprotest', 'b rt india end famin independ unless listen farmersprotest risk bring famin back http xe x xa', 'b respect level roof xf x f x x f xf x f x f xbd xf x f x c xbe xe x xa farmersprotest', 'b rt india end famin independ unless listen farmersprotest risk bring famin back http xe x xa', 'b meet realli hope took time talk current situat wi http co dprybhhsv', 'b meet realli hope took time talk current situat http co la wygvgv', 'b rt sidhu realiti govern xf x f xa x xf x f xa x xf x f x x xf x f x x modigovt ambaniadani farmersprotest http co f th lgmpc', 'b rt sidhu realiti govern xf x f xa x xf x f xa x xf x f x x xf x f x x modigovt ambaniadani farmersprotest http co f th lgmpc', 'b rt read report farmer protest cover intern respons legal issu wider implic hu xe x xa', 'b rt sidhu realiti govern xf x f xa x xf x f xa x xf x f x x xf x f x x modigovt ambaniadani farmersprotest http co f th lgmpc', 'b rt sidhu realiti govern xf x f xa x xf x f xa x xf x f x x xf x f x x modigovt ambaniadani farmersprotest http co f th lgmpc', 'b realiti govern xf x f xa x xf x f xa x xf x f x x xf x f x x modigovt ambaniadani farmersprotest http co f th lgmpc', 'b decid sultanpur lodhi today th march observ punjab bandh protest three f http co z pclznpdr', 'b good morn new day mission let xe x x keep rais voic injustic tweet rt support farmer http co lyoybt c', 'b rt farmer not back win arrog modi govern lose bjp xe xa x xe xa xbf xe xa xb xe xa xbe xe xa xa xe xa xb xe xa xbf xe xa xb xe xa x b xe xa xa farmersprotest http xe x xa', 'b rt ya give indian farmer visibl voic celebr use maximum impact farmersprot xe x xa', 'b farmer not back win arrog modi govern lose bjp xe xa x xe xa xbf xe xa xb xe xa xbe xe xa xa xe xa xb xe xa xbf xe xa xb xe xa x b xe xa xa farmersprotest http co vvsqqeur', 'b rt shiv wish continu strength farmersprotest hope break willpow dictatori regim', 'b view prevail law amp order situat ghazipur border carriag way nh go toward ghaziab http co ymfmpji cn', 'b everyon struggl surviv favourit adani ambani r becom richer day day modigovt ambaniadani http co cvi fq cu', 'b ya give indian farmer visibl voic celebr use maximum impact http co dam mduqxf', 'b rt shiv wish continu strength farmersprotest hope break willpow dictatori regim', 'b rt nation dishonour farmer becom martyr govern remain silent med xe x xa', 'b rt jeremi corbyn spoke law india bring social media censorship farmersprotest', 'b rt harri keep fight scream right make nois gonna hear us xe xa x xe xa xbf xe xa xb xe xa xbe xe xa xa xe xa x xe xa x c xe xa xbf xe xa xb xe xa xa xe xa x xe xa xae xe xa x b xe xa xa xe xa x xe xa xb xe xa xbe xe xa xb xe x xa', 'b rt ia xe x x get old modigovt ambaniadani kisanektazindaabaad farmersprotest http co kzrbrttyhr', 'b rt govern vest interest corpor sector hell bent blind dismantl public sector xe x xa', 'b rt farmersprotest movement xe x x rare phenomenon xe x x deepli connect peopl across broad xe x xa', 'b govern vest interest corpor sector hell bent blind dismantl public sect http co ytl bbzqv', 'b rt even loos young grandson januari kisaan parad bapu hardeep singh dibdiba not sit back instead xe x xa', 'b rt ia xe x x get old modigovt ambaniadani kisanektazindaabaad farmersprotest http co kzrbrttyhr', 'b rt sukhdev singh ji kokri kalan speak barnala youth educ meet cheema villag today preprat fo xe x xa', 'b rt nirmal singh villag hathan block malerkotla lost arm work one eye see xe x xa', 'b rt follow farmer worker ralli labour right live facebook page http co dvxwgieea bku ekta u xe x xa', 'b xe x x get old modigovt ambaniadani kisanektazindaabaad farmersprotest http co kzrbrttyhr', 'b rt ia sinc day modi govern came power guess got richer richer yep ambani adani mo xe x xa', 'b rt say fascism say bjp novotetobjp farmersprotest never ever http co xu mhsud', 'b rt age amrood ber xe x xa xef xb x f farmersprotest beingpunjabi http co q evzgtnin', 'b rt sangwan farmer night duti protest site delhi singhu border xe xa xb xe xa xa xe xa x xe xa x xe xa xbe xe xa x xe xa xbf xe xa xb xe xa xbe xe xa xa xe xa x c xe xa x xe xa xa xe xa x xe xa x xe xa xbe xe xa x xe xa xbf xe xa xb xe xa xbe xe xa xa farmersprotest singhubord http xe x xa', 'b rt age amrood ber xe x xa xef xb x f farmersprotest beingpunjabi http co q evzgtnin', 'b rt month later still imagin leav report medic facil se xe x xa', 'b rt sedit india share tweet indian govt deem threaten india sovereignti e xe x xa', 'b rt youth confer ralli march sunam manjeet singh ghracho speak need increas youth participa xe x xa', 'b hashtag today modigovt ambaniadani boycottbjp farmersprotest tweet rt share', 'b rt meghalaya guv sp malik back protest farmer urg pm modi amit shah not offend xe x xa', 'b sinc day modi govern came power guess got richer richer yep ambani adan http co lqxi qfsru', 'b meghalaya guv sp malik back protest farmer urg pm modi amit shah not offend http co sh wlzjsi', 'b rt farmersprotest satya pal malik back protest farmer urg centr not offend live updat http xe x xa', 'b thid cant coincid modigovt ambaniadani farmersprotest farmersprostest kisanandolan bjp http co yd wmcrlug', 'b rt dhan guru nanak dev ji farmer give us strength stay fight farmer bigger modi eg xe x xa', 'b rt young support tikri hold poster worker farmer ralli labour right tikribord today bk xe x xa', 'b rt farmersprotest movement xe x x rare phenomenon xe x x deepli connect peopl across broad xe x xa', 'b gmo india poverti farmer agricultur farmersprotest croni capit farmersprotest poor farmer india http co ryxqj waxv', 'b rt new zealand xf x f x xb support farmer india kiwi tractor twitter farmersprotest farmersprotest istandwithfarm newz xe x xa', 'b rt farmersprotest satya pal malik back protest farmer urg centr not offend live updat http xe x xa', 'b new zealand xf x f x xb support farmer india kiwi tractor twitter farmersprotest farmersprotest istandwithfarm http co yonsonq jj', 'b rt rakesh tikait say go parliament sell produc exactli farmbil enab xe x xa', 'b rt xf x f x xb mitron xf x f x xb know soon major middl class peopl stop use petrol amp diesel vehicl start use bicycl xe x xa', 'b rt xf x f x xb act pm adani want govt declar fish zone kattup port xf x f x xb kattup port time size xe x xa', 'b rt farmersprotest satya pal malik back protest farmer urg centr not offend live updat http xe x xa', 'b dear farmer tri understand get protest conclus dear wi http co n tzua aqg', 'b farmersprotest satya pal malik back protest farmer urg centr not offend live updat http co npx qvlb b', 'b rt farmer face mani offens amp extrem attack ongo protest punish anti farmer parti xe x xa', 'b rt freeranjitsingh let xe x x continu includ post pleas farmersprotest', 'b rt million peopl took part largest ever industri disput anywher histori planet still va xe x xa', 'b million peopl took part largest ever industri disput anywher histori planet still http co sllpozo v', 'b hashtag today farmersprotest http co ltwl lp kf', 'b rt striketosaveindia save democraci india farmersprotest http co afbfybmtc', 'b jeremi corbyn spoke law india bring social media censorship farmersprotest http co nrkiwt h', 'b rt even loos young grandson januari kisaan parad bapu hardeep singh dibdiba not sit back instead xe x xa', 'b rt youth confer ralli march sunam manjeet singh ghracho speak need increas youth participa xe x xa', 'b rt striketosaveindia save democraci india farmersprotest http co afbfybmtc', 'b rt lie cheat everyon know xf x f x xa savefarmerbanevm farmersprotest http co g ytdzccci', 'b rt xe xa x xe xa xbf xe xa xb xe xa xbe xe xa xa xe xa x xe xa x c xe xa xbf xe xa xb xe xa xa xe xa x xe xa xae xe xa x b xe xa xa xe xa x xe xa xb xe xa xbe xe xa xb xe xa x peopl power hindu muslim sikh christian one govern xe x xa', 'b rt striketosaveindia save democraci india farmersprotest http co afbfybmtc', 'b rt jaikisan inflict vote ki chot bjp kisan morcha urg poll bound bengal kisanandolan farmersprotest http co nzzvv xe x xa', 'b want halt passeng train govt cancel good train troubl busi g http co muf tdiqm', 'b world biggest properti dealer modi farmersprotest http co qxuzgggwgi', 'b rt dhan guru nanak dev ji farmer give us strength stay fight farmer bigger modi eg xe x xa', 'b rt harmesh malri punjab khet majdoor union said struggl farm law farmersprotest http xe x xa', 'b rt dhan guru nanak dev ji farmer give us strength stay fight farmer bigger modi eg xe x xa', 'b rt amolak singh punjab lok sabhyacharak manch surind kumari kochhar desh bhagat democrat movement parmind singh xe x xa', 'b dhan guru nanak dev ji farmer give us strength stay fight farmer bigger modi http co wkiz df', 'b rt xe xa x xe xa xbf xe xa xb xe xa xbe xe xa xa xe xa xb xe xa xbf xe xa xb xe xa x b xe xa xa xe xa x xe xa x xe xa x b xe xa xa xe xa x xe xa xae xe xa x xe xa xa xe xa xbf xe xa xaf xe xa xbe farmersprotest time held godi media account spread fake news tri xe x xa', 'b rt xe xa x xe xa xbf xe xa xb xe xa xbe xe xa xa xe xa x xe xa x c xe xa xbf xe xa xb xe xa xa xe xa x xe xa xae xe xa x b xe xa xa xe xa x xe xa xb xe xa xbe xe xa xb xe xa x peopl power hindu muslim sikh christian one govern xe x xa', 'b rt jeremi corbyn support farmer protest highlight media job properli xe x x cone xe x xa', 'b rt xe xa x xe xa xbf xe xa xb xe xa xbe xe xa xa xe xa x xe xa x c xe xa xbf xe xa xb xe xa xa xe xa x xe xa xae xe xa x b xe xa xa xe xa x xe xa xb xe xa xbe xe xa xb farmersprotest farmersprotest ever met woman lost fight lose xe x xa', 'b rt jeremi corbyn support farmer protest highlight media job properli xe x x cone xe x xa', 'b jeremi corbyn support farmer protest highlight media job properli xe x x con http co mek l gcjm', 'b rt xe xa x xe xa xbf xe xa xb xe xa xbe xe xa xa xe xa x xe xa x c xe xa xbf xe xa xb xe xa xa xe xa x xe xa xae xe xa x b xe xa xa xe xa x xe xa xb xe xa xbe xe xa xb farmersprotest farmersprotest ever met woman lost fight lose xe x xa', 'b rt shiv wish continu strength farmersprotest hope break willpow dictatori regim', 'b rt striketosaveindia save democraci india farmersprotest http co afbfybmtc', 'b rt xe xa x xe xa xbf xe xa xb xe xa xbe xe xa xa xe xa x xe xa x c xe xa xbf xe xa xb xe xa xa xe xa x xe xa xae xe xa x b xe xa xa xe xa x xe xa xb xe xa xbe xe xa xb farmersprotest farmersprotest ever met woman lost fight lose xe x xa', 'b striketosaveindia save democraci india farmersprotest http co afbfybmtc', 'b amaz respons farmersprotest chaak de phaat http co zmglqptnf', 'b account withheld india respons legal demand learn', 'b upgrad countri state fight independ plu k armi per http co catzuatpmz', 'b rt even loos young grandson januari kisaan parad bapu hardeep singh dibdiba not sit back instead xe x xa', 'b rt roniec stop extrem stop hate farmersprotest farmersprotest', 'b rt xe xa x xe xa xbf xe xa xb xe xa xbe xe xa xa xe xa x xe xa x c xe xa xbf xe xa xb xe xa xa xe xa x xe xa xae xe xa x b xe xa xa xe xa x xe xa xb xe xa xbe xe xa xb farmersprotest farmersprotest ever met woman lost fight lose xe x xa', 'b rt support indian farmer rt info go http co ssqoaeastm http co h wkzoihf askin xe x xa', 'b rt even loos young grandson januari kisaan parad bapu hardeep singh dibdiba not sit back instead xe x xa', 'b rt freeranjitsingh let xe x x continu includ post pleas farmersprotest', 'b rt assi jitang win farmersprotest farmersprotest', 'b rt roniec would capit stuck monopoli prevent free market price discoveri govt repe xe x xa', 'b rt farmer still protest jaggi still illeg detain ranjit singh peac protest still f xe x xa', 'b rt call xe x x cworld largest democraci shame india farmersprotest http co bqb noejo', 'b rt gill thank expos man oh hell not accept kp gill massmurder xe x xa', 'b freeranjitsingh let xe x x continu includ post pleas farmersprotest', 'b rt even loos young grandson januari kisaan parad bapu hardeep singh dibdiba not sit back instead xe x xa', 'b farmersprotest sadden indiafight farmerright http co zkoa l mq', 'b would capit stuck monopoli prevent free market price discoveri govt shoul http co io qq', 'b kisan andolan tweet farmersprotest rakeshtikait asolporiborton bengalelect http co bponff h h', 'b punjab gdp per capita rank bharat st th th th th th http co lvnb g qdo', 'b rt xe xa x xe xa xbf xe xa xb xe xa xbe xe xa xa xe xa x xe xa x c xe xa xbf xe xa xb xe xa xa xe xa x xe xa xae xe xa x b xe xa xa xe xa x xe xa xb xe xa xbe xe xa xb farmersprotest farmersprotest ever met woman lost fight lose xe x xa', 'b age amrood ber xe x xa xef xb x f farmersprotest beingpunjabi http co q evzgtnin', 'b rt shiv wish continu strength farmersprotest hope break willpow dictatori regim', 'b http co yo iirjx art print canva origin artwork paint farm farmfield hay hayfield field http co x inndpxid', 'b peopl know parti pay tith promot kind shit niolvidoniperdon brasil blm http co gavartsw b', 'b rt xe xa x xe xa xbf xe xa xb xe xa xbe xe xa xa xe xa x xe xa x c xe xa xbf xe xa xb xe xa xa xe xa x xe xa xae xe xa x b xe xa xa xe xa x xe xa xb xe xa xbe xe xa xb farmersprotest farmersprotest ever met woman lost fight lose xe x xa', 'b rt xe xa x xe xa xbf xe xa xb xe xa xbe xe xa xa xe xa x xe xa x c xe xa xbf xe xa xb xe xa xa xe xa x xe xa xae xe xa x b xe xa xa xe xa x xe xa xb xe xa xbe xe xa xb farmersprotest farmersprotest ever met woman lost fight lose xe x xa', 'b rt even loos young grandson januari kisaan parad bapu hardeep singh dibdiba not sit back instead xe x xa', 'b rt semahernandez import thing go world grammi xe x x focus liber farmersprotest xe x xa', 'b rt thousand women join farmersprotest outskirt delhi mark iwd demand scrap new law tha xe x xa', 'b rt pain youth india pleas support youth india ew student pleas share much modi jawab xe x xa', 'b rt farmer still protest jaggi still illeg detain ranjit singh peac protest still f xe x xa', 'b import thing go world grammi xe x x focus liber http co h rqyhh nb', 'b rt saraheverard vigil london polic misbehav public protect statu churchil insta pr xe x xa', 'b rt read report farmer protest cover intern respons legal issu wider implic hu xe x xa', 'b world see corrupt nation thank modi adani ambani punishantifarmerbjp novotetobjp http co xqfym cb', 'b rt even loos young grandson januari kisaan parad bapu hardeep singh dibdiba not sit back instead xe x xa', 'b rt india tractor sale seem trader mafia invest heavili farmersprotest discl bought new tractor xe x xa', 'b rt tikri report prepar continu sustain protest long time f xe x xa', 'b bjp save hindu ignor farmer busi news channel social media naughti ji farmersprotest', 'b rt gave right organ protest taunt indian polic echo english polic manhandl xe x xa', 'b rt farmer still protest jaggi still illeg detain ranjit singh peac protest still f xe x xa', 'b rt sharma not farmer lazi instead exist domin class lazi economist economist ne xe x xa', 'b rt tikri report prepar continu sustain protest long time f xe x xa', 'b rt xe xa x xe xa xbf xe xa xb xe xa xbe xe xa xa xe xa x xe xa x c xe xa xbf xe xa xb xe xa xa xe xa x xe xa xae xe xa x b xe xa xa xe xa x xe xa xb xe xa xbe xe xa xb farmersprotest farmersprotest ever met woman lost fight lose xe x xa', 'b rt saraheverard vigil london polic misbehav public protect statu churchil insta pr xe x xa', 'b thank doctor farmersprotest http co forymw k', 'b rt farmersprotest movement xe x x rare phenomenon xe x x deepli connect peopl across broad xe x xa', 'b new year delhi border waheguru bhalla kare sikhnewyear farmersprotest', 'b rt shiv wish continu strength farmersprotest hope break willpow dictatori regim', 'b surpris day follow autonomi violat photograph splash http co ftzigqx', 'b rt farmer still protest jaggi still illeg detain ranjit singh peac protest still f xe x xa', 'b rt month later still imagin leav report medic facil se xe x xa', 'b rt xe xa x xe xa xbf xe xa xb xe xa xbe xe xa xa xe xa x xe xa x c xe xa xbf xe xa xb xe xa xa xe xa x xe xa xae xe xa x b xe xa xa xe xa x xe xa xb xe xa xbe xe xa xb xe xa x peopl power hindu muslim sikh christian one govern xe x xa', 'b wish continu strength farmersprotest hope break willpow dictatori regim', 'b rt youth confer ralli march sunam manjeet singh ghracho speak need increas youth participa xe x xa', 'b rt sugarcan xe x x come ambit msp sinc fair remun price frp announc especi xe x xa', 'b rt subedar amarjeet singh winner medal fight farmer farmersprotest nofarmernofood farmersprot xe x xa', 'b rt xe xa x xe xa xbf xe xa xb xe xa xbe xe xa xa xe xa x xe xa x c xe xa xbf xe xa xb xe xa xa xe xa x xe xa xae xe xa x b xe xa xa xe xa x xe xa xb xe xa xbe xe xa xb farmersprotest farmersprotest ever met woman lost fight lose xe x xa', 'b rt even loos young grandson januari kisaan parad bapu hardeep singh dibdiba not sit back instead xe x xa', 'b rt cute farmersprotest xe x c x xf x f x f xbd xf x f x x c xf x f x x c xf x f x f xbd xf x f x x b istandwithfarm nofarmersnofood westandwithfarm repealfarmlaw thewo xe x xa', 'b rt farmer still protest jaggi still illeg detain ranjit singh peac protest still f xe x xa', 'b rt khaliqu xe xa x xe xa xbf xe xa xb xe xa xbe xe xa xa xe xa x xe xa x c xe xa xbf xe xa xb xe xa xa xe xa x xe xa xae xe xa x b xe xa xa xe xa x xe xa xb xe xa xbe xe xa xb make stronger develop india support farmer bjp suppress farmer amp xe x xa', 'b rt cute farmersprotest xe x c x xf x f x f xbd xf x f x x c xf x f x x c xf x f x f xbd xf x f x x b istandwithfarm nofarmersnofood westandwithfarm repealfarmlaw thewo xe x xa', 'b rt even loos young grandson januari kisaan parad bapu hardeep singh dibdiba not sit back instead xe x xa', 'b masoomiat farmersprotest http co klobe dhyh', 'b rt larg gather women way delhi larg scale langar servic haryana farmersprotest http co xe x xa', 'b cute farmersprotest xe x c x xf x f x f xbd xf x f x x c xf x f x x c xf x f x f xbd xf x f x x b istandwithfarm nofarmersnofood westandwithfarm http co jgsweq xiq', 'b rt nirmal singh villag hathan block malerkotla lost arm work one eye see xe x xa', 'b rt xe xa x xe xa xbf xe xa xb xe xa xbe xe xa xa xe xa x xe xa x c xe xa xbf xe xa xb xe xa xa xe xa x xe xa xae xe xa x b xe xa xa xe xa x xe xa xb xe xa xbe xe xa xb farmersprotest farmersprotest ever met woman lost fight lose xe x xa', 'b rt wait season crop wait mani gener xe xa x xe xa xbf xe xa xb xe xa xbe xe xa xa xe xa x xe xa x c xe xa xbf xe xa xb xe xa xa xe xa x xe xa xae xe xa x b xe xa xa xe xa x xe xa xb xe xa xbe xe xa xb farmersprotest xe x xa', 'b rt sangwan farmer night duti protest site delhi singhu border xe xa xb xe xa xa xe xa x xe xa x xe xa xbe xe xa x xe xa xbf xe xa xb xe xa xbe xe xa xa xe xa x c xe xa x xe xa xa xe xa x xe xa x xe xa xbe xe xa x xe xa xbf xe xa xb xe xa xbe xe xa xa farmersprotest singhubord http xe x xa', 'b rt xe xa x xe xa xbf xe xa xb xe xa xbe xe xa xa xe xa x xe xa x c xe xa xbf xe xa xb xe xa xa xe xa x xe xa xae xe xa x b xe xa xa xe xa x xe xa xb xe xa xbe xe xa xb farmersprotest farmersprotest ever met woman lost fight lose xe x xa', 'b rt brother could not reach delhi border strengthen voic farmer social media xe x c x afarm win mo xe x xa', 'b fight not farmersprotest farmersprotest novotetobjp', 'b remind india xe x x farmersprotest still go xe x x day delhi way longer state http co eebgt dkdo', 'b rt farmersprotest movement xe x x rare phenomenon xe x x deepli connect peopl across broad xe x xa', 'b rt farmer still protest jaggi still illeg detain ranjit singh peac protest still f xe x xa', 'b rt farmer still protest jaggi still illeg detain ranjit singh peac protest still f xe x xa', 'b rt farmer still protest jaggi still illeg detain ranjit singh peac protest still f xe x xa', 'b rt xe xa x xe xa xbf xe xa xb xe xa xbe xe xa xa xe xa x xe xa x c xe xa xbf xe xa xb xe xa xa xe xa x xe xa xae xe xa x b xe xa xa xe xa x xe xa xb xe xa xbe xe xa xb farmersprotest farmersprotest ever met woman lost fight lose xe x xa', 'b polic treat protestor like polic india influenc priti patel farmersprotest', 'b rt even loos young grandson januari kisaan parad bapu hardeep singh dibdiba not sit back instead xe x xa', 'b rt farmer still protest jaggi still illeg detain ranjit singh peac protest still f xe x xa', 'b rt cheater liar farmersprotest xe xa x xe xa xbf xe xa xb xe xa xbe xe xa xa xe xa x xe xa x c xe xa xbf xe xa xb xe xa xa xe xa x xe xa xae xe xa x b xe xa xa xe xa x xe xa xb xe xa xbe xe xa xb http co ffwj ce n', 'b rt farmer still protest jaggi still illeg detain ranjit singh peac protest still f xe x xa', 'b rt saraheverard vigil london polic misbehav public protect statu churchil insta pr xe x xa', 'b rt farmer still protest jaggi still illeg detain ranjit singh peac protest still f xe x xa', 'b rt read report farmer protest cover intern respons legal issu wider implic hu xe x xa', 'b rt farmer still protest jaggi still illeg detain ranjit singh peac protest still f xe x xa', 'b rt read report farmer protest cover intern respons legal issu wider implic hu xe x xa', 'b rt saraheverard vigil london polic misbehav public protect statu churchil insta pr xe x xa', 'b saraheverard vigil london polic misbehav public protect statu churchil insta http co rbi eiejg', 'b rt farmersprotest movement xe x x rare phenomenon xe x x deepli connect peopl across broad xe x xa', 'b rt thousand women join farmersprotest outskirt delhi mark iwd demand scrap new law tha xe x xa', 'b rt spoke today parliament peopl across ilford world look horror action indian gov xe x xa', 'b get fool govern media control http co h grxhvgb', 'b rt farmer still protest jaggi still illeg detain ranjit singh peac protest still f xe x xa', 'b rt farmer still protest jaggi still illeg detain ranjit singh peac protest still f xe x xa', 'b rt cheater liar farmersprotest xe xa x xe xa xbf xe xa xb xe xa xbe xe xa xa xe xa x xe xa x c xe xa xbf xe xa xb xe xa xa xe xa x xe xa xae xe xa x b xe xa xa xe xa x xe xa xb xe xa xbe xe xa xb http co ffwj ce n', 'b rt even loos young grandson januari kisaan parad bapu hardeep singh dibdiba not sit back instead xe x xa', 'b rt bigger repercuss uk posit challeng other govern injustic xe x xa', 'b cheater liar farmersprotest xe xa x xe xa xbf xe xa xb xe xa xbe xe xa xa xe xa x xe xa x c xe xa xbf xe xa xb xe xa xa xe xa x xe xa xae xe xa x b xe xa xa xe xa x xe xa xb xe xa xbe xe xa xb http co ffwj ce n', 'b rt farmer still protest jaggi still illeg detain ranjit singh peac protest still f xe x xa', 'b rt kisansocialarmi construct perman shelter tikri border protest farmlaw continu h xe x xa', 'b anyon suggest stay singhu delhi ask singl male travel airbnb h http co jrxgwhx b', 'b rt even loos young grandson januari kisaan parad bapu hardeep singh dibdiba not sit back instead xe x xa', 'b rt farmer still protest jaggi still illeg detain ranjit singh peac protest still f xe x xa', 'b rt even loos young grandson januari kisaan parad bapu hardeep singh dibdiba not sit back instead xe x xa', 'b rt farmersprotest novotetobjp peopl use power vote wise', 'b rt farmersprotest novotetobjp peopl use power vote wise', 'b rt happen ask sikh speak bengali farmersprotest sikh punjab india http co dsr xe x xa', 'b rt daart lilli front alway xf x f x x c xf x f x f xbf xf x f x xaf xe x c xa farmersprotest grammi', 'b lilli front alway xf x f x x c xf x f x f xbf xf x f x xaf xe x c xa farmersprotest grammi', 'b still support farmersprotest', 'b steej surya asham farmer martyr come whatsapp univ http co andbq npvu', 'b rt xe xa x xe xa xbf xe xa xb xe xa xbe xe xa xa xe xa x xe xa x c xe xa xbf xe xa xb xe xa xa xe xa x xe xa xae xe xa x b xe xa xa xe xa x xe xa xb xe xa xbe xe xa xb farmersprotest farmersprotest ever met woman lost fight lose xe x xa', 'b happen ask sikh speak bengali farmersprotest sikh punjab india http co dsrfga', 'b rt xe xa x xe xa xbf xe xa xb xe xa xbe xe xa xa xe xa x xe xa x c xe xa xbf xe xa xb xe xa xa xe xa x xe xa xae xe xa x b xe xa xa xe xa x xe xa xb xe xa xbe xe xa xb farmersprotest farmersprotest ever met woman lost fight lose xe x xa', 'b rt even loos young grandson januari kisaan parad bapu hardeep singh dibdiba not sit back instead xe x xa', 'b assi jitang win farmersprotest farmersprotest http co fj ps', 'b rt support indian farmer rt info go http co ssqoaeastm http co h wkzoihf askin xe x xa', 'b farmersprotest novotetobjp peopl use power vote wise http co oxg obmxr', 'b rt xe xa x xe xa xbf xe xa xb xe xa xbe xe xa xa xe xa x xe xa x c xe xa xbf xe xa xb xe xa xa xe xa x xe xa xae xe xa x b xe xa xa xe xa x xe xa xb xe xa xbe xe xa xb farmersprotest farmersprotest ever met woman lost fight lose xe x xa', 'b rt even loos young grandson januari kisaan parad bapu hardeep singh dibdiba not sit back instead xe x xa', 'b rt even loos young grandson januari kisaan parad bapu hardeep singh dibdiba not sit back instead xe x xa', 'b rt read report farmer protest cover intern respons legal issu wider implic hu xe x xa', 'b rt read report farmer protest cover intern respons legal issu wider implic hu xe x xa', 'b rt gave right organ protest taunt indian polic echo english polic manhandl xe x xa', 'b rt gave right organ protest taunt indian polic echo english polic manhandl xe x xa', 'b rt farmer still protest jaggi still illeg detain ranjit singh peac protest still f xe x xa', 'b rt gave right organ protest taunt indian polic echo english polic manhandl xe x xa', 'b fact govt want polit motiv farmersprotest sit pretti polit devi http co bj tqshmxm', 'b rt read report farmer protest cover intern respons legal issu wider implic hu xe x xa', 'b rt gave right organ protest taunt indian polic echo english polic manhandl xe x xa', 'b rt farmer still protest jaggi still illeg detain ranjit singh peac protest still f xe x xa', 'b rt support indian farmer rt info go http co ssqoaeastm http co h wkzoihf askin xe x xa', 'b rt read report farmer protest cover intern respons legal issu wider implic hu xe x xa', 'b rt read report farmer protest cover intern respons legal issu wider implic hu xe x xa', 'b rt read report farmer protest cover intern respons legal issu wider implic hu xe x xa', 'b modi biggest thief st centuri stole india corpor turn get fund rss agen http co xnuwabnn', 'b rt xe xa x xe xa xbf xe xa xb xe xa xbe xe xa xa xe xa x xe xa x c xe xa xbf xe xa xb xe xa xa xe xa x xe xa xae xe xa x b xe xa xa xe xa x xe xa xb xe xa xbe xe xa xb farmersprotest farmersprotest ever met woman lost fight lose xe x xa', 'b rt farmer still protest jaggi still illeg detain ranjit singh peac protest still f xe x xa', 'b rt read report farmer protest cover intern respons legal issu wider implic hu xe x xa', 'b rt sukhpreetsingh farmersprotest let xe x x get farmersprotest trend xf x f x c xbe xf x f x x c', 'b rt read report farmer protest cover intern respons legal issu wider implic hu xe x xa', 'b read report farmer protest cover intern respons legal issu wider implic http co tlhpphctk', 'b rt climat indian climat activist disharavi said felt violat arrest last month sedit charg treat xe x xa', 'b rt pain whenev sikh protest brand separatist http co mowkr zo via xe x xa']\n"
          ],
          "name": "stdout"
        }
      ]
    },
    {
      "cell_type": "markdown",
      "metadata": {
        "id": "r1OUFo8oLFh6"
      },
      "source": [
        "## Creating the Bag of Words model"
      ]
    },
    {
      "cell_type": "code",
      "metadata": {
        "id": "qroF7XcSCvY3",
        "colab": {
          "base_uri": "https://localhost:8080/"
        },
        "outputId": "f25baea6-e82f-4480-cf36-8ef5b611ae1d"
      },
      "source": [
        "from sklearn.feature_extraction.text import CountVectorizer\n",
        "cv = CountVectorizer(max_features = 1500)\n",
        "X = cv.fit_transform(corpus).toarray()\n",
        "y = dataset.iloc[:, -1].values\n",
        "print(cv)"
      ],
      "execution_count": null,
      "outputs": [
        {
          "output_type": "stream",
          "text": [
            "CountVectorizer(analyzer='word', binary=False, decode_error='strict',\n",
            "                dtype=<class 'numpy.int64'>, encoding='utf-8', input='content',\n",
            "                lowercase=True, max_df=1.0, max_features=1500, min_df=1,\n",
            "                ngram_range=(1, 1), preprocessor=None, stop_words=None,\n",
            "                strip_accents=None, token_pattern='(?u)\\\\b\\\\w\\\\w+\\\\b',\n",
            "                tokenizer=None, vocabulary=None)\n"
          ],
          "name": "stdout"
        }
      ]
    },
    {
      "cell_type": "markdown",
      "metadata": {
        "id": "DH_VjgPzC2cd"
      },
      "source": [
        "## Splitting the dataset into the Training set and Test set"
      ]
    },
    {
      "cell_type": "code",
      "metadata": {
        "id": "qQXYM5VzDDDI"
      },
      "source": [
        "from sklearn.model_selection import train_test_split\n",
        "X_train, X_test, y_train, y_test = train_test_split(X, y, test_size = 0.20, random_state = 0)"
      ],
      "execution_count": null,
      "outputs": []
    },
    {
      "cell_type": "markdown",
      "metadata": {
        "id": "VkIq23vEDIPt"
      },
      "source": [
        "## Training the Naive Bayes model on the Training set"
      ]
    },
    {
      "cell_type": "code",
      "metadata": {
        "id": "DS9oiDXXDRdI",
        "colab": {
          "base_uri": "https://localhost:8080/"
        },
        "outputId": "710addaf-2d4a-40d0-f498-af77fe1e7823"
      },
      "source": [
        "from sklearn.naive_bayes import GaussianNB\n",
        "classifier = GaussianNB()\n",
        "classifier.fit(X_train, y_train)"
      ],
      "execution_count": null,
      "outputs": [
        {
          "output_type": "execute_result",
          "data": {
            "text/plain": [
              "GaussianNB(priors=None, var_smoothing=1e-09)"
            ]
          },
          "metadata": {
            "tags": []
          },
          "execution_count": 67
        }
      ]
    },
    {
      "cell_type": "markdown",
      "metadata": {
        "id": "1JaRM7zXDWUy"
      },
      "source": [
        "## Predicting the Test set results"
      ]
    },
    {
      "cell_type": "code",
      "metadata": {
        "id": "Iif0CVhFDaMp",
        "colab": {
          "base_uri": "https://localhost:8080/"
        },
        "outputId": "08b72a99-f596-44c0-96ea-33102ff65de2"
      },
      "source": [
        "y_pred = classifier.predict(X_test)\n",
        "print(np.concatenate((y_pred.reshape(len(y_pred),1), y_test.reshape(len(y_test),1)),1))"
      ],
      "execution_count": null,
      "outputs": [
        {
          "output_type": "stream",
          "text": [
            "[[1 0]\n",
            " [0 0]\n",
            " [0 0]\n",
            " [0 0]\n",
            " [1 1]\n",
            " [1 0]\n",
            " [0 0]\n",
            " [0 0]\n",
            " [1 0]\n",
            " [1 0]\n",
            " [1 0]\n",
            " [0 0]\n",
            " [0 0]\n",
            " [0 0]\n",
            " [1 0]\n",
            " [0 0]\n",
            " [0 0]\n",
            " [0 0]\n",
            " [0 0]\n",
            " [0 0]\n",
            " [0 0]\n",
            " [1 1]\n",
            " [0 0]\n",
            " [0 0]\n",
            " [1 0]\n",
            " [0 0]\n",
            " [0 1]\n",
            " [1 0]\n",
            " [0 0]\n",
            " [0 0]\n",
            " [0 0]\n",
            " [0 0]\n",
            " [0 1]\n",
            " [0 1]\n",
            " [1 0]\n",
            " [0 0]\n",
            " [0 0]\n",
            " [1 0]\n",
            " [0 0]\n",
            " [1 0]\n",
            " [1 1]\n",
            " [1 0]\n",
            " [0 0]\n",
            " [0 1]\n",
            " [0 0]\n",
            " [0 0]\n",
            " [0 0]\n",
            " [0 0]\n",
            " [0 0]\n",
            " [0 1]\n",
            " [0 0]\n",
            " [0 0]\n",
            " [0 0]\n",
            " [0 0]\n",
            " [0 0]\n",
            " [0 1]\n",
            " [0 0]\n",
            " [1 1]\n",
            " [0 0]\n",
            " [0 0]\n",
            " [1 0]\n",
            " [0 0]\n",
            " [1 0]\n",
            " [1 0]\n",
            " [0 0]\n",
            " [0 0]\n",
            " [0 0]\n",
            " [0 0]\n",
            " [0 0]\n",
            " [0 0]\n",
            " [0 0]\n",
            " [1 1]\n",
            " [0 0]\n",
            " [0 0]\n",
            " [1 0]\n",
            " [0 0]\n",
            " [1 0]\n",
            " [0 0]\n",
            " [0 0]\n",
            " [0 0]\n",
            " [0 0]\n",
            " [0 0]\n",
            " [1 1]\n",
            " [0 0]\n",
            " [0 0]\n",
            " [1 1]\n",
            " [0 0]\n",
            " [0 0]\n",
            " [1 0]\n",
            " [0 0]\n",
            " [0 0]\n",
            " [0 0]\n",
            " [0 0]\n",
            " [1 0]\n",
            " [0 0]\n",
            " [0 0]\n",
            " [0 0]\n",
            " [0 0]\n",
            " [0 0]\n",
            " [1 1]]\n"
          ],
          "name": "stdout"
        }
      ]
    },
    {
      "cell_type": "markdown",
      "metadata": {
        "id": "xoMltea5Dir1"
      },
      "source": [
        "## Making the Confusion Matrix"
      ]
    },
    {
      "cell_type": "code",
      "metadata": {
        "id": "Xj9IU6MxDnvo",
        "colab": {
          "base_uri": "https://localhost:8080/"
        },
        "outputId": "416c01d2-b7ca-45e8-b26c-92c571752457"
      },
      "source": [
        "from sklearn.metrics import confusion_matrix, accuracy_score\n",
        "cm = confusion_matrix(y_test, y_pred)\n",
        "print(cm)\n",
        "accuracy_score(y_test, y_pred)"
      ],
      "execution_count": null,
      "outputs": [
        {
          "output_type": "stream",
          "text": [
            "[[67 19]\n",
            " [ 6  8]]\n"
          ],
          "name": "stdout"
        },
        {
          "output_type": "execute_result",
          "data": {
            "text/plain": [
              "0.75"
            ]
          },
          "metadata": {
            "tags": []
          },
          "execution_count": 69
        }
      ]
    },
    {
      "cell_type": "markdown",
      "metadata": {
        "id": "Kq1VwR1CKHC7"
      },
      "source": [
        "##Plotting the confusion matrix"
      ]
    },
    {
      "cell_type": "code",
      "metadata": {
        "id": "Myar0EmsfOkv",
        "colab": {
          "base_uri": "https://localhost:8080/",
          "height": 296
        },
        "outputId": "207a87a2-b93a-47bb-affc-c0903c53395e"
      },
      "source": [
        "from sklearn.metrics import plot_confusion_matrix\n",
        "plot_confusion_matrix(classifier, X_test, y_test)"
      ],
      "execution_count": null,
      "outputs": [
        {
          "output_type": "execute_result",
          "data": {
            "text/plain": [
              "<sklearn.metrics._plot.confusion_matrix.ConfusionMatrixDisplay at 0x7f8e508b1e50>"
            ]
          },
          "metadata": {
            "tags": []
          },
          "execution_count": 70
        },
        {
          "output_type": "display_data",
          "data": {
            "image/png": "[encoded data removed]",
            "text/plain": [
              "<Figure size 432x288 with 2 Axes>"
            ]
          },
          "metadata": {
            "tags": [],
            "needs_background": "light"
          }
        }
      ]
    },
    {
      "cell_type": "markdown",
      "metadata": {
        "id": "VacMyItxJDWd"
      },
      "source": [
        "##Training the Logistic Regression model"
      ]
    },
    {
      "cell_type": "code",
      "metadata": {
        "colab": {
          "base_uri": "https://localhost:8080/"
        },
        "id": "XrlNSYfVJChv",
        "outputId": "54e4c9ed-7a50-448a-9525-bb7b87fd176f"
      },
      "source": [
        "from sklearn.linear_model import LogisticRegression\n",
        "classifier = LogisticRegression(random_state = 0)\n",
        "classifier.fit(X_train, y_train)"
      ],
      "execution_count": null,
      "outputs": [
        {
          "output_type": "execute_result",
          "data": {
            "text/plain": [
              "LogisticRegression(C=1.0, class_weight=None, dual=False, fit_intercept=True,\n",
              "                   intercept_scaling=1, l1_ratio=None, max_iter=100,\n",
              "                   multi_class='auto', n_jobs=None, penalty='l2',\n",
              "                   random_state=0, solver='lbfgs', tol=0.0001, verbose=0,\n",
              "                   warm_start=False)"
            ]
          },
          "metadata": {
            "tags": []
          },
          "execution_count": 71
        }
      ]
    },
    {
      "cell_type": "markdown",
      "metadata": {
        "id": "lrgZSrhXJjtC"
      },
      "source": [
        "##Predicting the test set results"
      ]
    },
    {
      "cell_type": "code",
      "metadata": {
        "colab": {
          "base_uri": "https://localhost:8080/"
        },
        "id": "s9TiEzw6Ji-n",
        "outputId": "130a918e-47ae-4f55-9042-134bdaaf6eb0"
      },
      "source": [
        "y_pred = classifier.predict(X_test)\n",
        "print(np.concatenate((y_pred.reshape(len(y_pred),1), y_test.reshape(len(y_test),1)),1))"
      ],
      "execution_count": null,
      "outputs": [
        {
          "output_type": "stream",
          "text": [
            "[[1 0]\n",
            " [0 0]\n",
            " [0 0]\n",
            " [0 0]\n",
            " [1 1]\n",
            " [0 0]\n",
            " [0 0]\n",
            " [0 0]\n",
            " [0 0]\n",
            " [0 0]\n",
            " [0 0]\n",
            " [0 0]\n",
            " [0 0]\n",
            " [0 0]\n",
            " [1 0]\n",
            " [0 0]\n",
            " [0 0]\n",
            " [0 0]\n",
            " [0 0]\n",
            " [0 0]\n",
            " [0 0]\n",
            " [0 1]\n",
            " [0 0]\n",
            " [0 0]\n",
            " [1 0]\n",
            " [0 0]\n",
            " [0 1]\n",
            " [0 0]\n",
            " [0 0]\n",
            " [0 0]\n",
            " [0 0]\n",
            " [0 0]\n",
            " [0 1]\n",
            " [0 1]\n",
            " [0 0]\n",
            " [0 0]\n",
            " [0 0]\n",
            " [0 0]\n",
            " [0 0]\n",
            " [0 0]\n",
            " [1 1]\n",
            " [0 0]\n",
            " [0 0]\n",
            " [0 1]\n",
            " [0 0]\n",
            " [0 0]\n",
            " [0 0]\n",
            " [0 0]\n",
            " [0 0]\n",
            " [0 1]\n",
            " [0 0]\n",
            " [0 0]\n",
            " [0 0]\n",
            " [0 0]\n",
            " [0 0]\n",
            " [0 1]\n",
            " [0 0]\n",
            " [1 1]\n",
            " [0 0]\n",
            " [0 0]\n",
            " [0 0]\n",
            " [0 0]\n",
            " [0 0]\n",
            " [0 0]\n",
            " [0 0]\n",
            " [0 0]\n",
            " [0 0]\n",
            " [0 0]\n",
            " [0 0]\n",
            " [0 0]\n",
            " [0 0]\n",
            " [1 1]\n",
            " [0 0]\n",
            " [0 0]\n",
            " [0 0]\n",
            " [0 0]\n",
            " [0 0]\n",
            " [0 0]\n",
            " [0 0]\n",
            " [0 0]\n",
            " [0 0]\n",
            " [0 0]\n",
            " [0 1]\n",
            " [0 0]\n",
            " [0 0]\n",
            " [0 1]\n",
            " [0 0]\n",
            " [0 0]\n",
            " [0 0]\n",
            " [0 0]\n",
            " [0 0]\n",
            " [0 0]\n",
            " [0 0]\n",
            " [0 0]\n",
            " [0 0]\n",
            " [0 0]\n",
            " [0 0]\n",
            " [0 0]\n",
            " [0 0]\n",
            " [1 1]]\n"
          ],
          "name": "stdout"
        }
      ]
    },
    {
      "cell_type": "markdown",
      "metadata": {
        "id": "EKHp-0keJx8x"
      },
      "source": [
        "##Confusion matrix"
      ]
    },
    {
      "cell_type": "code",
      "metadata": {
        "colab": {
          "base_uri": "https://localhost:8080/"
        },
        "id": "L9ZVwAClJ1hr",
        "outputId": "59b884ea-b50c-4f38-89ca-6552074e603e"
      },
      "source": [
        "from sklearn.metrics import confusion_matrix, accuracy_score\n",
        "cm = confusion_matrix(y_test, y_pred)\n",
        "print(cm)\n",
        "accuracy_score(y_test, y_pred)"
      ],
      "execution_count": null,
      "outputs": [
        {
          "output_type": "stream",
          "text": [
            "[[83  3]\n",
            " [ 9  5]]\n"
          ],
          "name": "stdout"
        },
        {
          "output_type": "execute_result",
          "data": {
            "text/plain": [
              "0.88"
            ]
          },
          "metadata": {
            "tags": []
          },
          "execution_count": 73
        }
      ]
    },
    {
      "cell_type": "markdown",
      "metadata": {
        "id": "1yk9Bxu3KChh"
      },
      "source": [
        "##Plotting the confusion matrix"
      ]
    },
    {
      "cell_type": "code",
      "metadata": {
        "colab": {
          "base_uri": "https://localhost:8080/",
          "height": 296
        },
        "id": "ZmDa_ji-KBst",
        "outputId": "54424a69-63a5-4c00-8a7d-d20bc98eb94a"
      },
      "source": [
        "from sklearn.metrics import plot_confusion_matrix\n",
        "plot_confusion_matrix(classifier, X_test, y_test)"
      ],
      "execution_count": null,
      "outputs": [
        {
          "output_type": "execute_result",
          "data": {
            "text/plain": [
              "<sklearn.metrics._plot.confusion_matrix.ConfusionMatrixDisplay at 0x7f8e4fd32250>"
            ]
          },
          "metadata": {
            "tags": []
          },
          "execution_count": 74
        },
        {
          "output_type": "display_data",
          "data": {
            "image/png": "[encoded data removed]",
            "text/plain": [
              "<Figure size 432x288 with 2 Axes>"
            ]
          },
          "metadata": {
            "tags": [],
            "needs_background": "light"
          }
        }
      ]
    },
    {
      "cell_type": "markdown",
      "metadata": {
        "id": "Yljqm4qgc_BB"
      },
      "source": [
        "## Training the SVM model"
      ]
    },
    {
      "cell_type": "code",
      "metadata": {
        "id": "Rf1PGKPNam_N",
        "colab": {
          "base_uri": "https://localhost:8080/"
        },
        "outputId": "f9f6cc61-c9a9-4ec0-b66c-5c76cfd73d7d"
      },
      "source": [
        "from sklearn.svm import SVC\n",
        "classifier = SVC(kernel = 'linear', random_state = 0)\n",
        "classifier.fit(X_train, y_train)"
      ],
      "execution_count": null,
      "outputs": [
        {
          "output_type": "execute_result",
          "data": {
            "text/plain": [
              "SVC(C=1.0, break_ties=False, cache_size=200, class_weight=None, coef0=0.0,\n",
              "    decision_function_shape='ovr', degree=3, gamma='scale', kernel='linear',\n",
              "    max_iter=-1, probability=False, random_state=0, shrinking=True, tol=0.001,\n",
              "    verbose=False)"
            ]
          },
          "metadata": {
            "tags": []
          },
          "execution_count": 75
        }
      ]
    },
    {
      "cell_type": "markdown",
      "metadata": {
        "id": "2DiwhEBwdHHt"
      },
      "source": [
        "## Predicting the test reults"
      ]
    },
    {
      "cell_type": "code",
      "metadata": {
        "id": "3cKu0Lhvam6H",
        "colab": {
          "base_uri": "https://localhost:8080/"
        },
        "outputId": "f27b27f5-eebd-4a3a-ef23-fb57cb464c35"
      },
      "source": [
        "y_pred = classifier.predict(X_test)\n",
        "print(np.concatenate((y_pred.reshape(len(y_pred),1), y_test.reshape(len(y_test),1)),1))"
      ],
      "execution_count": null,
      "outputs": [
        {
          "output_type": "stream",
          "text": [
            "[[1 0]\n",
            " [0 0]\n",
            " [0 0]\n",
            " [0 0]\n",
            " [1 1]\n",
            " [0 0]\n",
            " [0 0]\n",
            " [0 0]\n",
            " [0 0]\n",
            " [0 0]\n",
            " [0 0]\n",
            " [0 0]\n",
            " [1 0]\n",
            " [0 0]\n",
            " [1 0]\n",
            " [0 0]\n",
            " [0 0]\n",
            " [0 0]\n",
            " [0 0]\n",
            " [0 0]\n",
            " [0 0]\n",
            " [0 1]\n",
            " [0 0]\n",
            " [0 0]\n",
            " [1 0]\n",
            " [0 0]\n",
            " [0 1]\n",
            " [0 0]\n",
            " [0 0]\n",
            " [0 0]\n",
            " [0 0]\n",
            " [0 0]\n",
            " [0 1]\n",
            " [0 1]\n",
            " [0 0]\n",
            " [0 0]\n",
            " [0 0]\n",
            " [0 0]\n",
            " [0 0]\n",
            " [0 0]\n",
            " [1 1]\n",
            " [0 0]\n",
            " [0 0]\n",
            " [0 1]\n",
            " [0 0]\n",
            " [0 0]\n",
            " [0 0]\n",
            " [0 0]\n",
            " [0 0]\n",
            " [0 1]\n",
            " [0 0]\n",
            " [0 0]\n",
            " [0 0]\n",
            " [0 0]\n",
            " [0 0]\n",
            " [0 1]\n",
            " [0 0]\n",
            " [1 1]\n",
            " [0 0]\n",
            " [0 0]\n",
            " [0 0]\n",
            " [0 0]\n",
            " [0 0]\n",
            " [0 0]\n",
            " [0 0]\n",
            " [0 0]\n",
            " [0 0]\n",
            " [0 0]\n",
            " [0 0]\n",
            " [0 0]\n",
            " [0 0]\n",
            " [1 1]\n",
            " [0 0]\n",
            " [0 0]\n",
            " [0 0]\n",
            " [0 0]\n",
            " [0 0]\n",
            " [0 0]\n",
            " [0 0]\n",
            " [0 0]\n",
            " [0 0]\n",
            " [0 0]\n",
            " [0 1]\n",
            " [0 0]\n",
            " [0 0]\n",
            " [0 1]\n",
            " [0 0]\n",
            " [0 0]\n",
            " [0 0]\n",
            " [0 0]\n",
            " [0 0]\n",
            " [0 0]\n",
            " [0 0]\n",
            " [0 0]\n",
            " [0 0]\n",
            " [0 0]\n",
            " [0 0]\n",
            " [0 0]\n",
            " [0 0]\n",
            " [1 1]]\n"
          ],
          "name": "stdout"
        }
      ]
    },
    {
      "cell_type": "markdown",
      "metadata": {
        "id": "ayDs15RidLAk"
      },
      "source": [
        "## Confusion matrix"
      ]
    },
    {
      "cell_type": "code",
      "metadata": {
        "id": "wSpxD4bDam0_",
        "colab": {
          "base_uri": "https://localhost:8080/"
        },
        "outputId": "ef7fb125-9cd7-42f8-b957-2c924822792c"
      },
      "source": [
        "from sklearn.metrics import confusion_matrix, accuracy_score\n",
        "cm = confusion_matrix(y_test, y_pred)\n",
        "print(cm)\n",
        "accuracy_score(y_test, y_pred)"
      ],
      "execution_count": null,
      "outputs": [
        {
          "output_type": "stream",
          "text": [
            "[[82  4]\n",
            " [ 9  5]]\n"
          ],
          "name": "stdout"
        },
        {
          "output_type": "execute_result",
          "data": {
            "text/plain": [
              "0.87"
            ]
          },
          "metadata": {
            "tags": []
          },
          "execution_count": 77
        }
      ]
    },
    {
      "cell_type": "code",
      "metadata": {
        "id": "tzIM7rBqfzFD",
        "colab": {
          "base_uri": "https://localhost:8080/",
          "height": 296
        },
        "outputId": "e50e9348-bda1-4f5c-f88b-e260970950f5"
      },
      "source": [
        "from sklearn.metrics import plot_confusion_matrix\n",
        "plot_confusion_matrix(classifier, X_test, y_test)"
      ],
      "execution_count": null,
      "outputs": [
        {
          "output_type": "execute_result",
          "data": {
            "text/plain": [
              "<sklearn.metrics._plot.confusion_matrix.ConfusionMatrixDisplay at 0x7f8e4fc6bd10>"
            ]
          },
          "metadata": {
            "tags": []
          },
          "execution_count": 78
        },
        {
          "output_type": "display_data",
          "data": {
            "image/png": "[encoded data removed]",
            "text/plain": [
              "<Figure size 432x288 with 2 Axes>"
            ]
          },
          "metadata": {
            "tags": [],
            "needs_background": "light"
          }
        }
      ]
    }
  ]
}