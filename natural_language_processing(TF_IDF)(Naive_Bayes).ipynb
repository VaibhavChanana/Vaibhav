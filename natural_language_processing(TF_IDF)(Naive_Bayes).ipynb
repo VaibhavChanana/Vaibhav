{
  "nbformat": 4,
  "nbformat_minor": 0,
  "metadata": {
    "colab": {
      "name": "natural_language_processing(TF-IDF)(Naive Bayes).ipynb",
      "provenance": [],
      "collapsed_sections": [],
      "toc_visible": true
    },
    "kernelspec": {
      "name": "python3",
      "display_name": "Python 3"
    }
  },
  "cells": [
    {
      "cell_type": "markdown",
      "metadata": {
        "id": "VwK5-9FIB-lu"
      },
      "source": [
        "# Covid Sentiment Analysis"
      ]
    },
    {
      "cell_type": "markdown",
      "metadata": {
        "id": "X1kiO9kACE6s"
      },
      "source": [
        "## Importing the libraries"
      ]
    },
    {
      "cell_type": "code",
      "metadata": {
        "id": "7QG7sxmoCIvN"
      },
      "source": [
        "import numpy as np\n",
        "import matplotlib.pyplot as plt\n",
        "import pandas as pd"
      ],
      "execution_count": null,
      "outputs": []
    },
    {
      "cell_type": "markdown",
      "metadata": {
        "id": "wTfaCIzdCLPA"
      },
      "source": [
        "## Importing the dataset"
      ]
    },
    {
      "cell_type": "code",
      "metadata": {
        "id": "UCK6vQ5QCQJe"
      },
      "source": [
        "dataset = pd.read_csv('result5 twitter.csv')"
      ],
      "execution_count": null,
      "outputs": []
    },
    {
      "cell_type": "markdown",
      "metadata": {
        "id": "Qekztq71CixT"
      },
      "source": [
        "## Cleaning the texts"
      ]
    },
    {
      "cell_type": "code",
      "metadata": {
        "id": "8u_yXh9dCmEE",
        "colab": {
          "base_uri": "https://localhost:8080/",
          "height": 50
        },
        "outputId": "bb3b8c81-e382-4dab-8f29-2c50c548eb15"
      },
      "source": [
        "import re\n",
        "import nltk\n",
        "nltk.download('stopwords')\n",
        "from nltk.corpus import stopwords\n",
        "from nltk.stem.porter import PorterStemmer\n",
        "corpus = []\n",
        "for i in range(0, 500):\n",
        "  review = re.sub('[^a-zA-Z]', ' ',dataset['Tweets'][i])\n",
        "  review = review.lower()\n",
        "  review = review.split()\n",
        "  ps = PorterStemmer()\n",
        "  all_stopwords = stopwords.words('english')\n",
        "  all_stopwords.remove('not')\n",
        "  review = [ps.stem(word) for word in review if not word in set(all_stopwords)]\n",
        "  review = ' '.join(review)\n",
        "  corpus.append(review)"
      ],
      "execution_count": null,
      "outputs": [
        {
          "output_type": "stream",
          "text": [
            "[nltk_data] Downloading package stopwords to /root/nltk_data...\n",
            "[nltk_data]   Package stopwords is already up-to-date!\n"
          ],
          "name": "stdout"
        }
      ]
    },
    {
      "cell_type": "code",
      "metadata": {
        "id": "KpGWdrzGoAsL",
        "colab": {
          "base_uri": "https://localhost:8080/",
          "height": 53
        },
        "outputId": "d157fe1b-5099-4fba-b551-1ef0c52eb978"
      },
      "source": [
        "print(corpus)"
      ],
      "execution_count": null,
      "outputs": [
        {
          "output_type": "stream",
          "text": [
            "['b rt want see posit news amid covid bandhavgarh ad six new tiger cub confirm recent mo xe x xa', 'b deliber wait til find mani prison guard alreadi team covid http co kghif yfe', 'b rt coin term far despairgarita cocktail concern xe x xa', 'b side yr old report manoj got covid die sunday brother alleg hr http co wrfkjtdztn', 'b rt import come week covid number stay high rise mani state may tri blame xe x xa', 'b hot uncomfort wear wore bare hour imagin six hour oper http co bvvxgyqjxz', 'b rt dear edmontonian unfortuant thing go wrong direct yeg number activ covid case doubl xe x xa', 'b rt import come week covid number stay high rise mani state may tri blame xe x xa', 'b rt need submit abstract present parallel session researchwal xe x x particularli look xe x xa', 'b rt dr anthoni fauci director niaid say covid turn xe x x cworst nightmar come life coronaviru xe x xa', 'b rt xe x x elect day south carolina mani import race decid today get make xe x xa', 'b rt za announc dirco pleas announc follow discuss mozambican partner south african stra xe x xa', 'b rt europ savethed thur june pm uk ireland pm poland franc new york friend atd uk speak covid xe x xa', 'b rt number coronaviru case countri increas two new case identifi yesterday returne fro xe x xa', 'b rt dear delhi chang daili report provid data covid infect previou day everi morn xe x xa', 'b rt jo corona se nahi mara wo ais mar gaya jise bachaya ja sakta tha wo bhi kyunki ilaaj nahi mil raha hai migrant worker xe x xa', 'b rt xf x f x b x attent listen top notch dr fauci tri destroy aid b c told truth xf x f xa x xf x f x f xbetak flu xe x xa', 'b rt report uk xe x x c covid death xe x x cpre exist condit xe x x latest statist show vast major fatalit xe x xa', 'b rt pierr nkrunzinza first presid kill covid wife denis bucumi nkurunziza treat co xe x xa', 'b rt indiafightscovid covid case soar shortag covid bed expos chennai take look report xe x xa', 'b cdc maximum gather peopl give myspac top ptsd xf x f x xa xf x f x xa socialdistanc covid', 'b rt matthew thorp manag partner hornchurch offic spoke busi key element success xe x xa', 'b rt popul new zealand lakh total covid case casualti popul bangalor crore tota xe x xa', 'b rt supercomput vital tool fight covid xf x f x e xa http co k axpwsqi natlabsinthefight hpc xe x xa', 'b rt ghss protest racial injustic continu encourag individu proactiv take step minim risk xe x xa', 'b rt convert delhi new york term covid kejriw implement pakistani model beg c xe x xa', 'b rt nahyan hope countri world heart one man confront global epidem covid brother man xe x xa', 'b rt least peopl die covid june u pandem continu rage remind everyon xe x xa', 'b rt mani bed lie empti citywest client told even bed avail homelessn xe x xa', 'b rt proud join member amp call use sdg social xe x xa', 'b social distanc day wear mask challeng slightli longer nose pinocchio nasolungo http co bquaobthqt', 'b rt india xe x xaa group minist review contain measur covid xe x xaa central team deploy municip bodi face xe x xa', 'b rt deutsch say us employ data made uncertain censu buro suspend person interview due xe x xa', 'b rt today cumul number confirm covid case total number death xe x xa', 'b rt toronto doubl coverag new bike e bike pilot project reach ward wi xe x xa', 'b rt begun effort collect donat unit plasma patient recov covid xe x xa', 'b rt american w obes diabet heart diseas amp diet relat diseas time like suffer worsen xe x xa', 'b rt bergstrom mislead stori rather unclear statement make round today seem suggest peop xe x xa', 'b great messag amp friend disasterserv getthingsdon covid http co mw jh yv', 'b rt rss swayamsevak conduct screen peopl mumbai xe x x dharavi asia xe x x largest slum worst affect xe x xa', 'b rt postpon aiim entranc exam xf x f x x f covid aiimsdirector aiimspg exam http co rif bzjxo', 'b rt announc asymptomat transfer covid rare complet turnaround init xe x xa', 'b rt least peopl die covid june u pandem continu rage remind everyon xe x xa', 'b rt rama devi amp utkal unives student stage demonstr front varsiti gate protest conduct plu iii final xe x xa', 'b twitterfoodbank bailouthuman peoplehelpingpeopl covid diaperandformulatuesday moth http co czaw fc zd', 'b rt watch kayburley ask health minist helen whate whether govern stick blame scientist xe x xa', 'b rt quick act respons pm amp govern invest canadian th xe x xa', 'b rt announc asymptomat transfer covid rare complet turnaround init xe x xa', 'b rt part effort ensur suffici number bed covid patient delta state today xe x xa', 'b covid shaken retail xe x x realiti implement strong data driven product strategi offer help r http co ueo mawr p', 'b rt dr anthoni fauci director niaid say covid turn xe x x cworst nightmar come life coronaviru xe x xa', 'b rt covid highlight mani other known long time creativ collabor across vol xe x xa', 'b rt attend protest demonstr may expos covid recommend get test even xe x xa', 'b rt podcast alert speak legal profess need bring xe x x cad valu client rath xe x xa', 'b rt bottom line see big spike covid case due lack test amp contact trace amp weak presid xe x xa', 'b rt import come week covid number stay high rise mani state may tri blame xe x xa', 'b rt publish onlin onmymind icaru sport covid close sun http co zumwsflw ahacovid xe x xa', 'b rt convert delhi new york term covid kejriw implement pakistani model beg c xe x xa', 'b rt aftermath covid crisi program like head start critic give kid tool need succ xe x xa', 'b rt new zealand fulli reopen economi without restrict covid case reach zero prime minist xe x xa', 'b rt announc asymptomat transfer covid rare complet turnaround init xe x xa', 'b rt uk govern not tell truth covid uk fatal rate statist covid within fatal rang xe x xa', 'b rt highli possibl covid one sever symptom cardiac arrest http co ud q cxnq', 'b rt educ min childcar centr allow reopen friday june visitor centr must covi xe x xa', 'b rt new case today covid death cuba day http co v rb wqzoc', 'b rt presid werner hoyer updat eu financ minist eib covid respons packag progress billion euro alreadi approv xe x xa', 'b rt number confirm covid case sa test conduct covid relat death xe x xa', 'b rt suppress myeloid cell hallmark sever covid http co dbl z nqvx latest preprint provid insight xe x xa', 'b aftermath covid crisi program like head start critic give kid tool need http co hfewaztjpi', 'b rt listen joe biden tonight impress day week get daili page review covid xe x xa', 'b rt woke xf x f x x f xf x f x f xbb xf x f x x f xf x f x f xbb xf x f x x f xf x f x f xbb xf x f x x f xf x f x f xbb take look morningjo killercuomo protest trump kag covid foxandfriend tu xe x xa', 'b rt et massiv screen lakh test help rajasthan rein covid spread test till last person w xe x xa', 'b paycheck protect program flexibl act make welcom chang forgiv rule ppp loa http co tf shvxvoa', 'b read storag newslett interview ceo dave zabrowski learn respons covid http co wdlbjk jh', 'b larta compani pivot work stand covid http co x vurmfa poweredbylarta', 'b rt scrnaseq identifi chang peripher immun cell patient covid includ hla class ii downregulatio xe x xa', 'b rt ghost discov sourc coronapocalyps covid xe x x bad boo would think collus china xe x xa', 'b good month covid lockdown work home major time last year http co pgsdh lrpe', 'b rt new report rise covid hospit amp icu case past two week link birthday par xe x xa', 'b rt check promis result recent studi convalesc plasma therapi covid', 'b rt today cumul number confirm covid case total number death xe x xa', 'b rt itali safe aliv xe x x xef xb x f beauti avail tourist world measur co xe x xa', 'b rt today join amp humanitarian colleagu ecosoc address complex health challeng covid drivi xe x xa', 'b black peopl repres va prison covid continu spread behind bar earli releas ef http co dxxpoyhd v', 'b rt dr anthoni fauci director niaid say covid turn xe x x cworst nightmar come life coronaviru xe x xa', 'b rt suppos goal lockdown slow rate covid transmiss amp simultan ramp h xe x xa', 'b heard wealthiest peopl famili given billion chariti sinc pandem began xe x x http co chaver bc', 'b rt look largest singl topic literatur collect covid look check lab de xe x xa', 'b rt recent rise activ covid case edmonton zone remind xe x x cthat need practic dilig say dr xe x xa', 'b rt convert delhi new york term covid kejriw implement pakistani model beg c xe x xa', 'b rt iteri proud sponsor student data challeng urban travel time speed reliabl second year r xe x xa', 'b rt possibl leav home everyday k covid case ur play xe x xa', 'b rt popul new zealand lakh total covid case casualti popul bangalor crore tota xe x xa', 'b covid critic care crash cours xd x xd x xd xb xd x xd xb xd xa xd x xd x xd x xd xb xd x xd x xd xa covid xd x xd x xd xb xd x xd xb xd x xd x xd xb xd x xd x xd xa xd xa xd x xd xac xd xaf xd x xd xaf covid cssc kau http co eyuwotgxq', 'b rt u n warn global mental health crisi due covid pandem http co ld ibird http co rxt tlrdin', 'b rt know million mortgag end interest lent recklessli pre xe x xa', 'b rt xe x x elect day south carolina mani import race decid today get make xe x xa', 'b rt temperatur screen alon could provid fals assur relat covid infect one recent studi patient p xe x xa', 'b rt differ protest amp anti lockdown protest week past previou protest oppos measur xe x xa', 'b rt popul new zealand lakh total covid case casualti popul bangalor crore tota xe x xa', 'b rantoftheday never thought cross state line get meal restaur skyylerthought http co k kvqmfpca', 'b rt announc asymptomat transfer covid rare complet turnaround init xe x xa', 'b rt way prevent covid widen achiev gap entir gener kid swiftli equi xe x xa', 'b need help understand sell govern context covid join spac http co eeyp wbd', 'b rt critic time amit shah start virtual elect campaign bjp presid also address virtual ralli xe x xa', 'b rt rss swayamsevak conduct screen peopl mumbai xe x x dharavi asia xe x x largest slum worst affect xe x xa', 'b sm unfortun georgefloyd could not block stop worldwid blacklivesmatt protest http co f vre lqrr', 'b rt import come week covid number stay high rise mani state may tri blame xe x xa', 'b delhi blood group b compon plasma recov covid patient requir urgent hospit http co fpgbfurmm', 'b rt epi twitter kinda erupt yesterday said asymptomat spread covid rare seem xe x xa', 'b rt dr anthoni fauci director niaid say covid turn xe x x cworst nightmar come life coronaviru xe x xa', 'b ohio report new case bring total confirm case total death new case http co xnkykegudq', 'b rt daneel livaw covid contagi non woke situat nobodi els normal funer', 'b rt odisha xe x x covid talli goe past mark new case coronaviru odishafightscorona http co qc bwgn xe x xa', 'b rt angela merkel test leader proven face covid pull us troop germa xe x xa', 'b rt monti huge number mink anim see imag kill dutch fur farm due covid fear peac dutch prot xe x xa', 'b rt hero day rare make sens mani young peopl countri crown hero time not fought sever xe x xa', 'b rt popul new zealand lakh total covid case casualti popul bangalor crore tota xe x xa', 'b rt despit surg unemploy econom uncertainti due covid stockl market us recov rapidli xe x xa', 'b epidemiologist expect fli hug everyday activ http co fxkgwg ohj coronaviru covid', 'b rt ask want discuss via wenurs becam clear us havd burn question around xe x xa', 'b rt popul new zealand lakh total covid case casualti popul bangalor crore tota xe x xa', 'b rt repres steven horsford run nevada th district look interest small busi owner xe x xa', 'b rt popul new zealand lakh total covid case casualti popul bangalor crore tota xe x xa', 'b rt current rate growth juli delhi lakh covid posit case amp need least hospi xe x xa', 'b knew person would know livid whole asymptomat transmiss statement state http co ybmsvjz cn', 'b rt popul new zealand lakh total covid case casualti popul bangalor crore tota xe x xa', 'b rt due covid aka coronaviru ill send first peopl like amp retweet cashapp ap xe x xa', 'b rt congress rule maharashtra fail us badli covid case maharashtra http xe x xa', 'b rt announc asymptomat transfer covid rare complet turnaround init xe x xa', 'b rt least peopl die covid june u pandem continu rage remind everyon xe x xa', 'b anoth pack way today support famili activ children covid pandemi http co zzmnijotgr', 'b rt convert delhi new york term covid kejriw implement pakistani model beg c xe x xa', 'b rt xe x x not true church use xe x x choli alcohol covid read http co lrcf betl http co x kcta xe x xa', 'b rt ongo saf donatekarona ration drive spread hope joy futur pakistan shoe xe x xa', 'b rt healthi baltimor health corp job counteract effect covid begin repair vulner communit xe x xa', 'b rt gov say arkansan test posit covid latest number xe x xa', 'b impos lockdown social distanc protest allow continu huge crowd http co vn soi g', 'b rt respons question cum case england xe x x justic secretari say alway refrain xe x xa', 'b nie heard got cure covid', 'b rt free covid test avail everyon washington park mall roxburi pop site xe x x join bostonprotest xe x xa', 'b rt prior pandem live one greatest economi world ever seen covid decimat xe x xa', 'b rt xe x x cjo baahar jaayega woh covid lekar hi aayega say friend live delhi situat citi', 'b rt question commission respons covid protest london fix penalti notic xe x xa', 'b rt apolog inform pandem never went away peopl protest brave xe x xa', 'b rt healthi join wednesday june th pm facebook live anoth virtual recruit guest employ wil xe x xa', 'b global trend alreadi happen syria twitterkurd covid http co hopm xazg', 'b rt possibl predict patient progress sever covid new analysi protein metaboli xe x xa', 'b featur partnership healthi citi covid respons center week risk communicati http co j fbjdnpa', 'b new voic kid troubl access mental health support covid increas need amp impo http co diddhsj', 'b rt hear joke cure covid riot', 'b rt garrett love bring togeth covid blacklivesmatt georgefloydprotest http co ycwsdhh yk', 'b rt covid yorkshir rehab screen use mani trust across uk xe x xa', 'b rt covid ndume ask fg slash worker salari thecabl http co b myo vfh covid', 'b rt covid test lab establish sindhgovt karachi univers current capac test day wh xe x xa', 'b rt vape e cigarett put higher risk covid complic drew marquardt tri xe x xa', 'b webinar avail covid respons page http co og xzyd', 'b rt da northern cape accus nc govern lie covid low number politician xe x xa', 'b rt xf x f x c x fwe excit announc new partnership work focu develop new model relat xe x xa', 'b rt covid new zealand erad coronaviru shore health offici report final per xe x xa', 'b rt china inactiv covid vaccin shown potent protect sar cov induc high level neutral xe x xa', 'b rt popul new zealand lakh total covid case casualti popul bangalor crore tota xe x xa', 'b rt kaduna lift lockdown day thecabl http co oridcjetg covid lockdown http co tmep vu', 'b andm find evid blood type play role covid xe x xa coronaviru http co rihc thev', 'b rt least peopl die covid june u pandem continu rage remind everyon xe x xa', 'b rt provinci updat june chang yesterday highlight updat excess death covid sa covid sa covid xe x xa', 'b rt covid number rise blame protest rememb law enforc seiz mask way prote xe x xa', 'b rt due covid aka coronaviru ill send first peopl like amp retweet cashapp xe x xa', 'b movi theater anoth victim covid', 'b rt understand desir get back routin pleas know safe viru still communit xe x xa', 'b administr respond quickli covid black american not want http co lxkzfmb', 'b rt china inactiv covid vaccin shown potent protect sar cov induc high level neutral xe x xa', 'b burundi pierr nkurunziza claim covid flu even expel offici final succumb http co wjunlropfv', 'b rt nearli two third briton life threaten health condit deni care covid crisi new research sho xe x xa', 'b rt today life strokeaward judg day due covid xe x x push everyth back xe x xa', 'b beposit collect defeat covid game take challeng nd opportun overcom http co kw zs', 'b rt brand new chariti help affect covid dont want money support pleas follow rt xe x xa', 'b rt pedsid join faculti member chair tomorrow pm ct kid covid highlight seriou infect xe x xa', 'b rt kidney transplant bounc back near pre covid level go transplant commun continu import work need xe x xa', 'b rt women covid chang world dramat particularli neg effect women yet still lead way xe x xa', 'b rt dr anthoni fauci director niaid say covid turn xe x x cworst nightmar come life coronaviru xe x xa', 'b rt import note well find similar scene mani european countri amp often worldwid public xe x xa', 'b rt covid troll whole world hope christ drop thursday pm stayathom tremour xe x xa', 'b rt watch convers mr rajiv bajaj covid crisi http co wlwupawxdd', 'b rt latest cdc covidview report show proport death certif code relat covid decreas f xe x xa', 'b rt popul new zealand lakh total covid case casualti popul bangalor crore tota xe x xa', 'b appar rioter immun covid cure need social distanc etc etc', 'b rt popul new zealand lakh total covid case casualti popul bangalor crore tota xe x xa', 'b rt amb lazaru amayo june commiss meet impact covid p xe x xa', 'b rt afghanistan grappl covid unicef partner ship person protect equip kit includi xe x xa', 'b rude reckless send covid patient nurs home hope duri http co bobxofmigv', 'b rt say blacklivesmatt protest xe x x undoubtedli lead covid death xe x x piti xe x x xe x xa', 'b rt tonight xe x x nation taskforc meet covid discuss includ analysi current situat opportuniti xe x xa', 'b rt today cumul number confirm covid case xf x f x xbf total number death xe x xa', 'b rt coronavirusupd delhi equip handl increas covid case dr puneet misra profess xe x xa', 'b rabbit hole dont talk dead covid million work civil unrest citi', 'b rt yr ago train scienc wonder commun represent matter scienc share xe x xa', 'b rt xe x x check psa everyth need know vote june primaryelect inc xe x xa', 'b rt ir temperatur sensor theoret let smartphon fever screen covid srsli http co uhxptj u', 'b rt also guess health expert say use tear ga pepper spray help spread covid militari research back xe x xa', 'b rt announc asymptomat transfer covid rare complet turnaround init xe x xa', 'b rt egypt confirm new coronaviru case new death rais countri total case deat xe x xa', 'b rt rapid guidelin provid recommend manag icu care patient covid includ plan c xe x xa', 'b istreet solut daili http co macszdvtqx stori via ai covid', 'b rt announc asymptomat transfer covid rare complet turnaround init xe x xa', 'b rt xe x x cthere extraordinari connect ophthalmolog dr joan w miller chief ophthalmolog xe x xa', 'b rt new zealand fulli reopen economi without restrict covid case reach zero prime minist xe x xa', 'b rt weekend went portsmouth covid test symptom took test see xe x xa', 'b rt popul new zealand lakh total covid case casualti popul bangalor crore tota xe x xa', 'b rt cathol defend abort knowingli spread conspiraci theori campaign xe x xa', 'b rt may june issu water canada avail cover topic contamin emerg concern pl xe x xa', 'b rt new growth forecast show two scenario poverti increas due covid pandem baselin scenario global xe x xa', 'b rt xf x f x xa return busi usual not option europ secretari gener jeremi wate explor covid respon xe x xa', 'b rt greec lift restrict entri italian tourist end june greek foreign minist say italian xe x xa', 'b xe x x work due covid abl return work foot got broke xe x x unt http co cszphfr', 'b rt biden said flag fli half mask continu remind us die xe x xa', 'b tomorrow fpbnurs amp faculti weigh healthdispar u http co vzhaahh jy', 'b rt mislead amp confus know peopl contagi exhibit symptom estimat xe x xa', 'b rt teacher learn lot fli covid also idea better school clo xe x xa', 'b rt infect help us share ip csc framework document strategi manag acut shortag person protect xe x xa', 'b rt fever cough short breath californian access free covid test find site area help p xe x xa', 'b bethgandolfo could realli use help furlough get covid thank http co mz lfgiivt', 'b rt let celebr share inspir somiziinspir tshego saynotorapist covid uzmak xe x xa', 'b rt woke xf x f x x f xf x f x f xbb xf x f x x f xf x f x f xbb xf x f x x f xf x f x f xbb xf x f x x f xf x f x f xbb take look morningjo killercuomo protest trump kag covid foxandfriend tu xe x xa', 'b rt least peopl die covid june u pandem continu rage remind everyon xe x xa', 'b stop w russian nonsens xe x x cinterfer anoint h http co zg rla', 'b rt publish deal made big pharma develop covid vaccin use taxpay fund xe x xa', 'b rt thing love see children today xf x f x x c xf x f x x xf x f x x b xf x f xa xa xf x f x x xe x xa coronaviruslockdown lockdown covid covid http xe x xa', 'b rt small busi find covid relief option resourc xf x f x x', 'b sa situat one outlet zola regard covid', 'b rt messag gener public simpl transmit covid even awar hav xe x xa', 'b rt z xe x x tackl institut racsim covid agre dorect attent toward next biggest scourg xe x xa', 'b rt hello useless eater unqualifi non elect global human health overlord like flaunt posit power xe x xa', 'b rt pennsylvania report new case new death bring total confirm case total death xe x xa', 'b rt one good news stori ontario covid fight steadi declin hospit viru xe x xa', 'b new case new death ecuador gmt coronaviru coronavirusupd covid coronaviruspandem', 'b rt least peopl die covid june u pandem continu rage remind everyon xe x xa', 'b rt report uk xe x x c covid death xe x x cpre exist condit xe x x latest statist show vast major fatalit xe x xa', 'b rt import guidanc cancer team uk radiotherapi board partner releas advic covid test xe x xa', 'b tire till reach presid mr uhuru muigai kenyatta depressedbuthop covid may not k http co zcunujtmfw', 'b rt xe x x ca commun support worker lock take kid tea without worri stress xe x x xe x xa', 'b home covid test develop uvic research http co czaxepsb use nanotechnolog w http co hamvg gwbv', 'b rt unless peer review data provid support conclus public health approach covid xe x xa', 'b sir alongwid contract employe karachidevelopmentauthor lg sindh http co lqmxpebma', 'b rt rajinikanth thank forum reach needi amid covid rajinikanth compromis mask amp social di xe x xa', 'b yesterday thg put two grant applic continu good neighbourhood hamper scheme govt covid http co tzrqr xs z', 'b rt today cumul number confirm covid case total number death xe x xa', 'b rt xe x x miss join us tomorrow watch sierra leon xe x x alongsid amp other speak ab xe x xa', 'b rt xe x x elect day south carolina mani import race decid today get make xe x xa', 'b pray stay home stay safe save life pleas use mask xf x f x xa let slogan covid tou http co tj ldazbc', 'b rt due covid aka coronaviru ill send first peopl like amp retweet cashapp xe x xa', 'b rt covid health peril hit black commun harder geograph socioeconom landscap xe x xa', 'b rt covid number rise blame protest rememb law enforc seiz mask way prote xe x xa', 'b rt live covid transmiss amp dr askwho http co k ezi l ml', 'b rt indiafightscovid covid case soar shortag covid bed expos chennai take look report xe x xa', 'b rt popul new zealand lakh total covid case casualti popul bangalor crore tota xe x xa', 'b rt texa report new case new death bring total confirm case total death coronaviru xe x xa', 'b rt today xe x x featur xf x f x xac chariti dedic rescu amp rehom bordercolli amp colli cross adopt cu xe x xa', 'b rt hear joke cure covid riot', 'b rt seal cop arrest amp charg kill one innoc man politician arrest amp charg kill tho xe x xa', 'b favorit law school professor die covid not hoax http co sa zf tf', 'b rt metr rule ditch help school amp busi cope socialdistanc look evolv xe x xa', 'b rt biodigit get point point b fastest pursuit covid vaccin xe x x cwe learn ot xe x xa', 'b rt announc asymptomat transfer covid rare complet turnaround init xe x xa', 'b rt foreign minist spoke effort refuge covid antalyadiplomacyforum adftalk xe x xa', 'b rt signal avail see latest research impact covid crisi includ global poll expert analysi xe x xa', 'b thank nj keep us safe ignor peopl http co kwaozfcrjz', 'b rt respons year old alic offici oldest beneficiari train act volunt rich amp nathan conduct c xe x xa', 'b rt xe x x jonathan birdwel join peggi talk iot import tool compani help fight xe x xa', 'b rt even covid lockdown restrict lift might observ concern behavior abus neighborhood xe x xa', 'b rt least peopl die covid june u pandem continu rage remind everyon xe x xa', 'b regist show http co exunciyt proce donat student organ labor r http co ztpuzfhurf', 'b rt covid number rise blame protest rememb law enforc seiz mask way prote xe x xa', 'b socialdistanc nearli imposs refuge crowd camp covid spread like wildfir http co upouomdpx', 'b rt xe x xa xef xb x fisrael close school xe x x ca new polici order school case emerg close gt student amp staff te xe x xa', 'b go defend world evil china regim first covid http co mv fwrqmmb', 'b rt import come week covid number stay high rise mani state may tri blame xe x xa', 'b rt state seen south dakota manag covid like seen xe x xa', 'b think tweet scotland xf x f xa x http co wbruxuzikc', 'b didyouknow congress could take immedi action today increas snap need let ensur eve http co advtpzd al', 'b rt xe x x circl wrong part despit covid g abl creat inclin compani twc help stay xe x xa', 'b rt covid number rise blame protest rememb law enforc seiz mask way prote xe x xa', 'b rt treasuri confirm women young peopl disproportion econom affect covid auspol xe x xa', 'b rt scoop activ respond dcprotest test posit covid http co llgzrdfdoz', 'b rt covid simul show egypt rise case death fellow egyptian pleas stay safe xe x xa', 'b rt gba case understand impact covid need look race ethnic socio econom data assess xe x xa', 'b rt convert delhi new york term covid kejriw implement pakistani model beg c xe x xa', 'b rt ashraff improv alhumdulillah prayer speedi recoveri may allah pak give shifa patient aameen cov xe x xa', 'b hope dead wrong plan second surg could august like septemb http co gxjhl qe', 'b rt kenya presid pierr nkurunziza ethiopia refus take measur covid dead wife also test posit xe x xa', 'b rt number hospit er visit covid icu admiss covid remain flat mean ye xe x xa', 'b xe x x xe x x actual answer yet xe x x clarifi comment asymptomat spread covid healthnew http co au hm sma', 'b rt covid number rise blame protest rememb law enforc seiz mask way prote xe x xa', 'b rt covid safeti measur caus surg plasticpollut us difficult becom xe x xa', 'b rt someon know lost yr old daughter cancer pleas rememb peopl die awf xe x xa', 'b rt polit germani expand covid test capac also test peopl without symptom prevent xe x xa', 'b rt join us next localgov covid call xe x x discuss organis cultur remot work xf x f x x friday xe x xa', 'b rt state hit highest day averag covid case alaska arizona arkansa california florida kentucki ne xe x xa', 'b rt due covid aka coronaviru ill send first peopl like amp retweet cashapp ap xe x xa', 'b rt xe x x cmi wife hatic ayd xc xb n imprison taken manisa prison month pregnant risk xe x xa', 'b rt center diseas control prevent expand list symptom peopl experienc th xe x xa', 'b rt today cumul number confirm covid case total number death xe x xa', 'b rt xe x x circl wrong part despit covid g abl creat inclin compani twc help stay xe x xa', 'b rt polici pleas join next practic live discuss scott wallsten whether telecom becom public util xe x xa', 'b rt peopl get covid surviv heart attack stroke fatal http co izjpwz advoca xe x xa', 'b infect dead jfc wherearethetest wherearethetestresult http co cyjxnut l', 'b rt philippaw current million unpaid carer uk million role due covid carer xe x xa', 'b left two discord commun tire cuss encourag peopl http co bidmq tfgc', 'b rt keen support women grassroot amid covid pandem team ojodu akut market di xe x xa', 'b mamadeb http co suvq cckzf', 'b rt american presid could russian provocateur undermin us democraci alien us alli neglect xe x xa', 'b rt xe x x cdemocraci die dark xe x x covid dark xe x x dictat xe x x best friend', 'b rt scoop activ respond dcprotest test posit covid http co llgzrdfdoz', 'b rt donald trump make victim everyth covid protest racism say xe x xa', 'b rt mayor vinto patricia arc tortur bolivian coup support begun hunger strike protest again xe x xa', 'b rt assang write julian due prison covid julian prolong virtual solitari confin month visit xe x xa', 'b know around homeless activ live street cambridg alon closur p http co pfzef zq', 'b rt pietro bruccoleri die late last month embattl ontario long term care home senior succumb co xe x xa', 'b rt covid case amp death report tamilnadu today total number case state includi xe x xa', 'b rt sf covid risk floyd protest new model predict death nation outsiz impa xe x xa', 'b uk still lead way europ new case death covid politician http co cni pffjwd', 'b rt icon ivermectin covid nineteen studi use ivermectin associ lower mortal hospit patient wi xe x xa', 'b rt garrett american covid respons danger water usa rank worst social unrest index ran xe x xa', 'b rt convert delhi new york term covid kejriw implement pakistani model beg c xe x xa', 'b rt person cardiac arrest cpr could tripl chanc surviv new studi show risk covid xe x xa', 'b rt xe x x cmi wife hatic ayd xc xb n imprison taken manisa prison month pregnant risk xe x xa', 'b rt import come week covid number stay high rise mani state may tri blame xe x xa', 'b birthday covid edit geminiszn xe x x http co luebnccxb', 'b rt uk uk news like connect airway babetray staff xe x xa', 'b rt import come week covid number stay high rise mani state may tri blame xe x xa', 'b xe x x need open door listen x alli legisl without co opt kent http co ltwxmr dh', 'b ummm ok leav asid methodolog wtf covid xe x x identifi anyth inten http co z flukjc', 'b rt today cumul number confirm covid case total number death xe x xa', 'b rt minor kidney patient increas risk covid due longstand structur inequ goe detail xe x xa', 'b latest podcast fascin amp join mike turner talk covid http co oucn oi k', 'b rwandan xf x f x xb peacekeep unmiss xf x f x xba die covid contract southsudan xf x f x xb amp transferr http co nqhlohdj v', 'b rt garrett love bring togeth covid blacklivesmatt georgefloydprotest http co ycwsdhh yk', 'b rt lesson pandem highlight need rethink citi sustain group lead global urba xe x xa', 'b rt despit surg unemploy econom uncertainti due covid stockl market us recov rapidli xe x xa', 'b rt today cumul number confirm covid case total number death xe x xa', 'b join webcast explor signific covid regulatori trend challeng opport http co blazyjxk', 'b rt new zealand covid free australia covid pretti clear uk anoth today worst world johnsonhasfail covid xe x xa', 'b rt american presid could russian provocateur undermin us democraci alien us alli neglect xe x xa', 'b rt due covid send first peopl like amp retweet cashapp drop xe x xa', 'b rt announc asymptomat transfer covid rare complet turnaround init xe x xa', 'b leftist pseudo work cahoot like make local minneapoli tragedi glob http co uzdzxfiew', 'b seen doodl scrub could help oper fight covid ot http co ou uzpo e', 'b rt one three adult use household cleaner disinfect unsaf prevent covid use bleach food xe x xa', 'b mcmaster uniqu re http co dwdhgx lma', 'b rt convert delhi new york term covid kejriw implement pakistani model beg c xe x xa', 'b un sg releas polici brief threat covid food secur amp nutrit http co dw eawj', 'b rt free covid test avail everyon washington park mall roxburi pop site xe x x join bostonprotest xe x xa', 'b better not hear complaint peopl weekli bp xe x x cquarantin parti covid prot http co bpmp ubvag', 'b irvin harbour outsid hac northayrshir irvin fishingboat covid tinyplanet pixaloop insta onex http co gcx lcyzzx', 'b rt popul new zealand lakh total covid case casualti popul bangalor crore tota xe x xa', 'b check new vlog msf field worker differ part world volunt workin http co iqqz pb', 'b xe x x obviou newsom xe x x care covid anymor sinc protest start http co tflzx qyr', 'b covid still thing beat local news seem mr benn bicycl racist th http co nrru mh ya', 'b rt servic covid forc mani organ quickli adapt newnorm expos cyberthreat exl xe x x cyber se xe x xa', 'b rt due covid aka coronaviru ill send first peopl like amp retweet cashapp ap xe x xa', 'b rt covid perspex desk screen sale x mm width r discount price larg quantiti contact xe x xa', 'b rt report case covid utah new fatal test administ ho xe x xa', 'b rt time uncertainti world young peopl want justic digniti end inequ particularl xe x xa', 'b rt sinc onset covid pandem unifil amp troop maintain daili oper activ xe x xa', 'b rt foreign minist spoke effort refuge covid antalyadiplomacyforum adftalk xe x xa', 'b rt fever cough short breath californian access free covid test find site area help p xe x xa', 'b rt studi virolog jrn chloroquin potent inhibitor sar coronaviru infect amp spread http co scrd xe x xa', 'b rt thalaivar offici press releas regard covid rajinikanth thalaivar superstar annaatth http co ouooib xe x xa', 'b rt like respons covid trump xe x x ignor denial epidem danger need action end polic violen xe x xa', 'b rt covid number rise blame protest rememb law enforc seiz mask way prote xe x xa', 'b rt new highlight first case covid u household pet occur two pet cat ny although covid xe x xa', 'b go herculean task jnj paul stoffel say covid vaccin trial ensur number peop http co ijtqfpyni', 'b xe x x least mayor xe x x concern dear without mask still contr http co f c ltvd', 'b rt satellit data internet search wuhan region suggest china xe x x coronaviru outbreak start octob xe x xa', 'b state local partner essenti statewid covid respons partner like mar http co yymgmvpn', 'b rt glad chanc speak today crisi irish art due cov xe x xa', 'b rt xe x x elect day south carolina mani import race decid today get make xe x xa', 'b rt gender climat amp secur inextric link covid crisi deepen exist gender base inequ new xe x xa', 'b rt least peopl die covid june u pandem continu rage remind everyon xe x xa', 'b rt luver stock market economi u covid jan death june death xe x xa', 'b day mani social media rememb day went coupl hour http co mdzcz spbn', 'b covid effect reproduct number itali calcul use sirc model http co lasctzfh x', 'b rt xe x x elect day south carolina mani import race decid today get make xe x xa', 'b rt popul new zealand lakh total covid case casualti popul bangalor crore tota xe x xa', 'b rt hear hamont offici think latest provinci open plan today covid hamiltonreopen updat xe x xa', 'b rt middl earth covid xe x xa', 'b thank nfpa star wildfir covid work bethanyhannah http co tjzwoyih j', 'b rt covid number rise blame protest rememb law enforc seiz mask way prote xe x xa', 'b rt uk still time regist annual confer year focus hdr uk commun shift tackl covid xe x xa', 'b rt countri covid darl ohio health director ami acton su ohio restaur amus park xe x xa', 'b rt unfortun share mr biswa kumar debbarma covid patient west tripura co morbi xe x xa', 'b rt least peopl die covid june u pandem continu rage remind everyon xe x xa', 'b rt nato xe x x alli work togeth prosecut china conspiraci hide truth xe x xa', 'b rt manufactur figur paint grim pictur latinamerica covid continu rage across contin amp deep recess loom xe x xa', 'b rt gender climat amp secur inextric link covid crisi deepen exist gender base inequ new xe x xa', 'b rt dot receiv caresact fund continu transit oper amp replac lost fare revenu xe x xa', 'b rt xf x f x xa break offici recant clarifi describ asymptomat transmiss covid xe x x crare maria xe x xa', 'b rt medic emerg someth need deal time coronapandem thank karyakarta xe x xa', 'b rt state hit highest day averag covid case alaska arizona arkansa california florida kentucki ne xe x xa', 'b rt today pm shall live aulogo fm adjumani district discuss effect covid access srhr xe x xa', 'b rt supercut media super consist messag protest covid http co iq htjkcpo', 'b rt anoth victori nsui give relief parent student amidst crisi covid contempl xe x xa', 'b rt convert delhi new york term covid kejriw implement pakistani model beg c xe x xa', 'b rt prevent covid spread extent except systemat analysi global studi peop xe x xa', 'b rt latest cdc covidview report show proport death certif code relat covid decreas f xe x xa', 'b rt new zealand fulli reopen economi without restrict covid case reach zero prime minist xe x xa', 'b covid case increas state start open trump abandon pandem http co lyyu vvmqx', 'b rt updat mayor walsh covid press confer http co wfagonh today move p http xe x xa', 'b rt xf x f x xa day away xf x f x xa join us et xe x x ccanari coalmin learn covid health ecosystem age wo xe x xa', 'b rt ontarian deserv know exactli premier ford justifi decis ontario respons covid tha xe x xa', 'b rt faq covid case manag recoveri time covid averag may take day week per xe x xa', 'b rt thank allianc host last week hospit amp tourism industri critic nation econ xe x xa', 'b rt happen airplan land tel aviv airport covid humanitarian aid palestinian thisni th xe x xa', 'b rt convert delhi new york term covid kejriw implement pakistani model beg c xe x xa', 'b rt number confirm covid case sa test conduct covid relat death xe x xa', 'b yep adult children suit play everybodi money probabl get richter http co kopkptd q', 'b rt via employ employe grappl work remot offic keep sa xe x xa', 'b rt sinc mid mayi feel leader take leadership india xe x x battl covid neither new delhi xe x xa', 'b rt singl father nj ny univers employe new mother utah common struggl xe x xa', 'b new report rise covid hospit amp icu case past two week link birthday http co k lgrrq', 'b still take precaut minim risk covid give blood import ever want http co gutuj l', 'b covid come casino near futur appear announc fun', 'b rt number confirm covid case south africa follow confirm case death recoveri xe x xa', 'b rt bottom line see big spike covid case due lack test amp contact trace amp weak presid xe x xa', 'b rt ride dawn print illustr avail june proce go black tran ad xe x xa', 'b rt time uncertainti world young peopl want justic digniti end inequ particularl xe x xa', 'b covid dummi', 'b rt announc asymptomat transfer covid rare complet turnaround init xe x xa', 'b rt june today cumul number confirm covid case total number death xe x xa', 'b rt assist director calvin shiver crimin investig divis testifi senat judiciari committe xe x xa', 'b rt look govern attitud receipt covid payment see encapsul everyth xe x xa', 'b daili life worker chang drastic covid made employe move home offic http co clzvkg umi', 'b alert georg floyd kill trump avoid talk racial bia global pandem news coronaviru covid http co ho xpzvbnm', 'b rt coronaviru watch updat june http co drcj qjmt germani continu report low level covid infect mal xe x xa', 'b learn commun technolog covid http co jcrvnugo p', 'b donat build health clinic afghanistan covid pandem xe x x help one els wil evi http co cbrrhoc gz', 'b rt garrett histor upris nyc hall spur misstep covid amp georgefloydprotest xe x x cthi much u xe x xa', 'b rt thank continu support govern peopl drc fight ebola xe x xa', 'b rt newyorkc put three month covid lockdown behind monday make least tri comeback nyc', 'b rt alok sharma look ill made statement hofc told test xe x xa', 'b viral load although report say xe x x grow viru lab viral count low http co klhrcqnilv', 'b rt covid pose clear amp present danger food secur amp nutrit opportun build inclus xe x xa', 'b doctor success surgeri cataract mom eye covid nigeria god lo http co gillargji', 'b rt covid shape govt institut amp democrat practic across africa brother pascal kambal describ h xe x xa', 'b rt sa covid updat total covid test conduct last hour new case covid r xe x xa', 'b rt convert delhi new york term covid kejriw implement pakistani model beg c xe x xa', 'b rt foreign minist spoke effort refuge covid antalyadiplomacyforum adftalk xe x xa', 'b rt convert delhi new york term covid kejriw implement pakistani model beg c xe x xa', 'b oxford centr happi read realli want go covid prevent', 'b rt alok sharma look ill made statement hofc told test xe x xa', 'b rt freya teach send bickerson xe x xa', 'b rt day end coronaviru updat pm et xf x f x xb confirm death xf x f x x covid case xf x f x xb case fatal rate xe x xa', 'b rt ride dawn print illustr avail june proce go black tran ad xe x xa', 'b rt corona updat india date th june cmarvindkejriw delhi coronavirusindia coronatestneg covid xe x xa', 'b rt ppe lab cam uni realli enjoy love xe x xa', 'b rt xe x x cmi wife hatic ayd xc xb n imprison taken manisa prison month pregnant risk xe x xa', 'b rt crsh xf x f x xa xe x x updat covid except research traine hold train award remot detail xf x f x x http co io xe x xa', 'b rt commenc sale lft concern investor covid lft still one xe x xa', 'b rt xf x f x xa west dunbartonshir need help document covid xf x f x xa collect anyth show covid im xe x xa', 'b rt announc asymptomat transfer covid rare complet turnaround init xe x xa', 'b rt popul new zealand lakh total covid case casualti popul bangalor crore tota xe x xa', 'b rt popul new zealand lakh total covid case casualti popul bangalor crore tota xe x xa', 'b rt keep tri push narr peopl want return work heard xe x xa', 'b rt sa covid updat last hour case http co nil sjln ensur disinfect offic xe x xa', 'b rt june daili confirm covid case arizona hit first time happen time nex xe x xa', 'b proper manag resourc alway lead profit xf x f x xb method obtain proper manag http co dq hh z du', 'b rt tori death exceed hundr fatal covid north west england care home dr xe x xa', 'b rt thank patienc time book kindli contact us skyladavisportraitur com e xe x xa', 'b rt year come end sens mourn lost video confer amp onlin lesson n xe x xa', 'b rt xf x f x xa xe x x racist prove xe x x not http co rahpmwdk k watch riot loot georgefloyd manufacturedcrisu xe x xa', 'b chang around covid social distanc isol reduc pleasur activ job loss financi ins http co mmortbrrvn', 'b rt gudo differ level product univers chicago work tri find vac xe x xa', 'b rt import come week covid number stay high rise mani state may tri blame xe x xa', 'b solv today emerg secur challeng covid work home mandat secur nonprofit organ http co ug rf jm', 'b rt xf x f x x ascientist xe x x studi full genom sequenc sarscov viru caus covid found xe x xa', 'b rt xe x x cmi wife hatic ayd xc xb n imprison taken manisa prison month pregnant risk xe x xa', 'b rt new zealand succe erad coronaviru awaninew awanipagi covid http co ojtkmqfbm http co pgcgtm xe x xa', 'b rt obaidi worst thing fear might infect one close wear mask even home caus someon xe x xa', 'b rt usnavi mission essenti train continu covid great lake school cantstopwontstop detail xe xac x http c xe x xa', 'b rt new case covid death posit patient report karnataka today case xe x xa', 'b rt popul new zealand lakh total covid case casualti popul bangalor crore tota xe x xa', 'b keen support women grassroot amid covid pandem team ojodu akut market http co xrcj ke g', 'b rt healthcar new healthtech report launch today describ new approach health inform architectur believ xe x xa', 'b rt wow wow oxford journal appreci bhagvad gita lesson fight covid liber make fun hinduism http xe x xa', 'b rt covid research commun own otherwis best scienc world come noth said xe x xa', 'b rt announc asymptomat transfer covid rare complet turnaround init xe x xa', 'b rt covid number rise blame protest rememb law enforc seiz mask way prote xe x xa', 'b rt serolog test covid reopen essenti counterproduct interview prof antonio giordan xe x xa', 'b express gratitud must never forget highest appreci not utter word liv http co ilyricpvpd', 'b rt new data report show covid neg impact nonprofit directservic provid ser xe x xa', 'b rt u n warn global mental health crisi due covid pandem http co ld ibird http co rxt tlrdin', 'b nambool stadium serv covid treatment center uganda aim bed http co ysbbusldyp http co rjgzilqd', 'b rt xe x xac million amount irish taxpay money burn per month empti privat hospit bed never saw xe x xa', 'b rt popul new zealand lakh total covid case casualti popul bangalor crore tota xe x xa', 'b rt chinazi commit destroy free trade deal threaten uk huawei ccpchina commit threaten xe x xa', 'b updat mayor walsh covid press confer http co cp g rist today move p', 'b rt keep tri push narr peopl want return work heard xe x xa', 'b problem uganda kasingy not covid', 'b god real covid not', 'b covid crisi led reduc capac critic mainten park garden w http co gf bkyr']\n"
          ],
          "name": "stdout"
        }
      ]
    },
    {
      "cell_type": "markdown",
      "metadata": {
        "id": "CLqmAkANCp1-"
      },
      "source": [
        "## Creating the Bag of Words model"
      ]
    },
    {
      "cell_type": "code",
      "metadata": {
        "id": "qroF7XcSCvY3"
      },
      "source": [
        "from sklearn.feature_extraction.text import CountVectorizer\n",
        "cv = CountVectorizer(max_features = 1500)\n",
        "X = cv.fit_transform(corpus).toarray()\n",
        "y = dataset.iloc[:, -1].values"
      ],
      "execution_count": null,
      "outputs": []
    },
    {
      "cell_type": "markdown",
      "metadata": {
        "id": "DH_VjgPzC2cd"
      },
      "source": [
        "## Splitting the dataset into the Training set and Test set"
      ]
    },
    {
      "cell_type": "markdown",
      "metadata": {
        "id": "OmMMWclMcbTe"
      },
      "source": [
        "TF-IDF FEATURE"
      ]
    },
    {
      "cell_type": "code",
      "metadata": {
        "id": "eqKB4XjJchRW"
      },
      "source": [
        "from sklearn.feature_extraction.text import TfidfVectorizer\n",
        "tfidf_vectorizer = TfidfVectorizer(max_df=0.90, min_df=2, max_features=1500, stop_words='english')\n",
        "# TF-IDF feature matrix\n",
        "tfidf = tfidf_vectorizer.fit_transform(corpus)\n",
        "X = tfidf_vectorizer.fit_transform(corpus).toarray()\n",
        "y = dataset.iloc[:, -1].values"
      ],
      "execution_count": null,
      "outputs": []
    },
    {
      "cell_type": "code",
      "metadata": {
        "id": "qQXYM5VzDDDI"
      },
      "source": [
        "from sklearn.model_selection import train_test_split\n",
        "X_train, X_test, y_train, y_test = train_test_split(X, y, test_size = 0.20, random_state = 0)"
      ],
      "execution_count": null,
      "outputs": []
    },
    {
      "cell_type": "markdown",
      "metadata": {
        "id": "VkIq23vEDIPt"
      },
      "source": [
        "## Training the Naive Bayes model on the Training set"
      ]
    },
    {
      "cell_type": "code",
      "metadata": {
        "id": "DS9oiDXXDRdI"
      },
      "source": [
        "from sklearn.naive_bayes import GaussianNB\n",
        "classifier = GaussianNB()\n",
        "clf = classifier.fit(X_train, y_train)"
      ],
      "execution_count": null,
      "outputs": []
    },
    {
      "cell_type": "markdown",
      "metadata": {
        "id": "1JaRM7zXDWUy"
      },
      "source": [
        "## Predicting the Test set results"
      ]
    },
    {
      "cell_type": "code",
      "metadata": {
        "id": "Iif0CVhFDaMp",
        "colab": {
          "base_uri": "https://localhost:8080/",
          "height": 1000
        },
        "outputId": "0f3535f6-16be-4d3c-a90d-85c92bc337df"
      },
      "source": [
        "y_pred = classifier.predict(X_test)\n",
        "print(np.concatenate((y_pred.reshape(len(y_pred),1), y_test.reshape(len(y_test),1)),1))"
      ],
      "execution_count": null,
      "outputs": [
        {
          "output_type": "stream",
          "text": [
            "[[1 1]\n",
            " [0 0]\n",
            " [0 0]\n",
            " [1 1]\n",
            " [1 0]\n",
            " [1 0]\n",
            " [1 0]\n",
            " [1 1]\n",
            " [1 1]\n",
            " [0 0]\n",
            " [1 1]\n",
            " [1 0]\n",
            " [0 0]\n",
            " [0 0]\n",
            " [1 1]\n",
            " [1 0]\n",
            " [0 0]\n",
            " [1 1]\n",
            " [1 1]\n",
            " [1 0]\n",
            " [1 1]\n",
            " [1 0]\n",
            " [0 1]\n",
            " [1 1]\n",
            " [1 0]\n",
            " [0 1]\n",
            " [1 1]\n",
            " [1 1]\n",
            " [1 1]\n",
            " [1 0]\n",
            " [0 0]\n",
            " [0 0]\n",
            " [0 0]\n",
            " [1 0]\n",
            " [1 0]\n",
            " [0 0]\n",
            " [0 0]\n",
            " [0 0]\n",
            " [1 1]\n",
            " [1 1]\n",
            " [0 0]\n",
            " [1 1]\n",
            " [1 0]\n",
            " [1 1]\n",
            " [1 0]\n",
            " [0 0]\n",
            " [1 1]\n",
            " [0 0]\n",
            " [0 0]\n",
            " [0 1]\n",
            " [0 1]\n",
            " [0 0]\n",
            " [0 1]\n",
            " [1 0]\n",
            " [1 1]\n",
            " [0 1]\n",
            " [0 1]\n",
            " [0 0]\n",
            " [0 0]\n",
            " [0 0]\n",
            " [0 0]\n",
            " [1 0]\n",
            " [1 1]\n",
            " [0 1]\n",
            " [0 0]\n",
            " [1 1]\n",
            " [1 1]\n",
            " [0 0]\n",
            " [1 1]\n",
            " [0 0]\n",
            " [0 0]\n",
            " [1 0]\n",
            " [0 1]\n",
            " [1 1]\n",
            " [1 1]\n",
            " [0 0]\n",
            " [1 1]\n",
            " [0 0]\n",
            " [1 0]\n",
            " [1 1]\n",
            " [0 0]\n",
            " [1 0]\n",
            " [0 0]\n",
            " [1 1]\n",
            " [1 0]\n",
            " [1 0]\n",
            " [1 1]\n",
            " [0 1]\n",
            " [1 1]\n",
            " [0 0]\n",
            " [0 0]\n",
            " [1 1]\n",
            " [1 0]\n",
            " [1 1]\n",
            " [0 1]\n",
            " [0 1]\n",
            " [0 0]\n",
            " [1 1]\n",
            " [1 1]\n",
            " [1 0]]\n"
          ],
          "name": "stdout"
        }
      ]
    },
    {
      "cell_type": "markdown",
      "metadata": {
        "id": "xoMltea5Dir1"
      },
      "source": [
        "## Making the Confusion Matrix"
      ]
    },
    {
      "cell_type": "code",
      "metadata": {
        "id": "Xj9IU6MxDnvo",
        "colab": {
          "base_uri": "https://localhost:8080/",
          "height": 67
        },
        "outputId": "c6371341-d347-4f2c-91f8-39842b815157"
      },
      "source": [
        "from sklearn.metrics import confusion_matrix, accuracy_score\n",
        "cm = confusion_matrix(y_test, y_pred)\n",
        "print(cm)\n",
        "accuracy_score(y_test, y_pred)"
      ],
      "execution_count": null,
      "outputs": [
        {
          "output_type": "stream",
          "text": [
            "[[32 22]\n",
            " [12 34]]\n"
          ],
          "name": "stdout"
        },
        {
          "output_type": "execute_result",
          "data": {
            "text/plain": [
              "0.66"
            ]
          },
          "metadata": {
            "tags": []
          },
          "execution_count": 18
        }
      ]
    },
    {
      "cell_type": "code",
      "metadata": {
        "id": "DIPAg-ywGZnj",
        "colab": {
          "base_uri": "https://localhost:8080/",
          "height": 296
        },
        "outputId": "ebdf4fe0-b3b8-4954-a998-f699e46e1c74"
      },
      "source": [
        "plot_confusion_matrix(clf, X_test, y_test) "
      ],
      "execution_count": null,
      "outputs": [
        {
          "output_type": "execute_result",
          "data": {
            "text/plain": [
              "<sklearn.metrics._plot.confusion_matrix.ConfusionMatrixDisplay at 0x7feca414b6d8>"
            ]
          },
          "metadata": {
            "tags": []
          },
          "execution_count": 38
        },
        {
          "output_type": "display_data",
          "data": {
            "image/png": "[encoded data removed]",
            "text/plain": [
              "<Figure size 432x288 with 2 Axes>"
            ]
          },
          "metadata": {
            "tags": [],
            "needs_background": "light"
          }
        }
      ]
    }
  ]
}